{
 "cells": [
  {
   "cell_type": "markdown",
   "id": "62b21b7e",
   "metadata": {},
   "source": [
    "<div align=\"center\">\n",
    "  <h1> <a href=\"https://github.com/QunaSys/quantum-algorithm-grand-challenge/tree/main\"> Quantum Algorithm Grand Challenge</a></h1>\n",
    "  <h2> Applying the HVA method to find the Fermi-Hubbard Ground State </h2>\n",
    "</div>\n",
    "<br>\n",
    "\n",
    "<div align=\"center\">\n",
    "  <b>Author: <a target=\"_blank\" href=\"https://github.com/camponogaraviera\">Lucas Camponogara Viera</a></b>\n",
    "</div>"
   ]
  },
  {
   "cell_type": "markdown",
   "id": "860a2a7b",
   "metadata": {},
   "source": [
    "<table class=\"tfo-notebook-buttons\" align=\"head\">\n",
    "  <td>\n",
    "    <a target=\"_blank\" href=\"https://github.com/QuCAI-Lab/qagc\"><img src=\"https://www.tensorflow.org/images/GitHub-Mark-32px.png\" /></a>\n",
    "  </td>\n",
    "</table> "
   ]
  },
  {
   "cell_type": "code",
   "execution_count": 1,
   "id": "f7b1f76d",
   "metadata": {},
   "outputs": [
    {
     "data": {
      "application/javascript": [
       "IPython.notebook.set_autosave_interval(60000)"
      ]
     },
     "metadata": {},
     "output_type": "display_data"
    },
    {
     "name": "stdout",
     "output_type": "stream",
     "text": [
      "Autosaving every 60 seconds\n"
     ]
    }
   ],
   "source": [
    "%autosave 60"
   ]
  },
  {
   "cell_type": "markdown",
   "id": "e1e5e99c",
   "metadata": {},
   "source": [
    "# Description"
   ]
  },
  {
   "cell_type": "markdown",
   "id": "5dc7fcaf",
   "metadata": {},
   "source": [
    "Various approaches have been proposed to create effective hardware-efficient and chemistry-inspired ansatz. One such ansatz is the trotterized UCCSD ansatz which, although based on the accurate Coupled-cluster theory, suffers from inconsistency under low-order trotterization steps [1] when shallow circuits friendly to NISQ devices provide a poor approximation to the UCCSD wavefunction. \n",
    "\n",
    "On the optimization side, gradient-based algorithms for the optimization of variational quantum circuits have also been explored, such as the Bayesian model gradient descent (BayesMGD) [2], the model gradient descent (MGD) [3], the [SPSA](https://quri-parts.qunasys.com/quri_parts/algo/quri_parts.algo.optimizer.html#quri_parts.algo.optimizer.SPSA), [Adam](https://quri-parts.qunasys.com/quri_parts/algo/quri_parts.algo.optimizer.html#quri_parts.algo.optimizer.Adam), [L-BFGS](https://quri-parts.qunasys.com/quri_parts/algo/quri_parts.algo.optimizer.html#quri_parts.algo.optimizer.LBFGS), [NFT](https://quri-parts.qunasys.com/quri_parts/algo/quri_parts.algo.optimizer.html#quri_parts.algo.optimizer.NFT), and the ADAPT-VQE [4] which strongly relies on the parameter-shift rule to compute the gradient of the gates in order to optimize the Euler angles and change the circuit structure on-the-fly [5]. Gradient-free optimization algorithms include the Rotosolve, Rotoselect [6], and the NelderMead method, to name a few. The mainstream literature states that gradient-based methods are more efficient with faster convergence if gradients can be computed directly [7] [8]. \n",
    "\n",
    "The characteristic of the Hubbard model suggests the application of the Hamiltonian variational method [9] which uses terms of the Hamiltonian to propose the circuit ansatz with a smaller circuit depth than the unitary coupled cluster method (UCC).\n",
    "\n",
    "In this solution, gradient-free and gradient-based optimizations were compared, and the final algorithm was chosen based on its computational time (speed) and convergence.\n",
    "\n",
    "\\[1] Grimsley, H. R.; Claudino, D.; Economou, S. E.; Barnes, E.; Mayhall, N. J. Is the trotterized uccsd ansatz chemically well-defined? [J. Chem. Theory Comput. 2020, 16, 1](https://pubs.acs.org/doi/abs/10.1021/acs.jctc.9b01083).\n",
    "\n",
    "\\[2] Stanisic, S., Bosse, J.L., Gambetta, F.M. et al. Observing ground-state properties of the Fermi-Hubbard model using a scalable algorithm on a quantum computer. [Nat Commun 13, 5743 (2022).](https://www.nature.com/articles/s41467-022-33335-4)\n",
    "\n",
    "\\[3] Sung, K. J. et al. Using models to improve optimizers for variational quantum algorithms. Quantum Sci. Technol. 5, 044008 (2020).\n",
    "\n",
    "\\[4] Harper R. Grimsley, Sophia E. Economou, Edwin Barnes, Nicholas J. Mayhall, \"An adaptive variational algorithm for exact molecular simulations on a quantum computer\". [Nat. Commun. 2019, 10, 3007](https://www.nature.com/articles/s41467-019-10988-2).\n",
    "\n",
    "\\[5] Lucas Camponogara Viera and José Paulo Marchezi. \"Extending Adaptive Methods for Finding an Optimal Circuit Ansatze in VQE Optimization\". [QHack2022 Open Hackathon Project - Quantum Chemistry Challenge.](https://github.com/QuCAI-Lab/qhack2022-hackeinberg-project)\n",
    "\n",
    "\\[6] Mateusz Ostaszewski, Edward Grant, Marcello Bendetti. \"Structure optimization for parameterized quantum circuits.\" [Quantum 5, 391 (2021).](https://quantum-journal.org/papers/q-2021-01-28-391/)\n",
    "\n",
    "\\[7] J. Li, X. Yang, X. Peng, and C.-P. Sun, [Phys. Rev. Lett. 118, 150503 (2017)](https://journals.aps.org/prl/abstract/10.1103/PhysRevLett.118.150503).\n",
    "\n",
    "\\[8] K. Mitarai, M. Negoro, M. Kitagawa, and K. Fujii, [Phys. Rev. A 98, 032309 (2018)](https://journals.aps.org/pra/abstract/10.1103/PhysRevA.98.032309).\n",
    "\n",
    "\\[9] Wecker, D., Hastings, M. B. & Troyer, M. Progress towards practical quantum variational algorithms. [Phys. Rev. A 92](https://journals.aps.org/pra/abstract/10.1103/PhysRevA.92.042303), 042303 (2015).\n",
    "\n",
    "\\[10] Chris Cade, Lana Mineh, Ashley Montanaro, and Stasja Stanisic. Strategies for solving the Fermi-Hubbard model on near-term quantum computers. [Phys. Rev. B 102, 235122](https://journals.aps.org/prb/abstract/10.1103/PhysRevB.102.235122).\n",
    "\n",
    "\\[11] Jiang, Z., Sung, K. J., Kechedzhi, K., Smelyanskiy, V. N. & Boixo, S. Quantum algorithms to simulate many-body physics of correlated fermions. Phys. Rev. Appl. 9, 044036 (2018)."
   ]
  },
  {
   "cell_type": "markdown",
   "id": "a94b966f",
   "metadata": {},
   "source": [
    "# Theoretical background"
   ]
  },
  {
   "cell_type": "markdown",
   "id": "776e4403",
   "metadata": {},
   "source": [
    "## First Quantization"
   ]
  },
  {
   "cell_type": "markdown",
   "id": "cbc2ee22",
   "metadata": {},
   "source": [
    "[comment]: <> (To enable strikethrough symbol:)\n",
    "$$\\require{cancel}$$  <!--strikethrough -->\n",
    "\n",
    "In the first quantization formalism, the framework of the old quantum mechanics theory, the molecular electronic Hamiltonian reads:\n",
    "\n",
    "\\begin{align}\n",
    "\\hat{H} = -\\underbrace{\\sum_i^e \\frac{\\hbar^2 \\nabla^2_i}{2 m_e}}_\\text{kinetic-electrons} - \\underbrace{\\sum_i^n \\frac{\\hbar^2\\nabla^2_i}{2 M_i}}_\\text{kinetic-nuclei} + \\underbrace{\\sum_{i \\ne j}^e \\frac{e^2}{4\\pi\\epsilon_0|\\mathbf{r}_i-\\mathbf{r}_j|}}_\\text{electron-electron Coulomb repulsions} + \\underbrace{\\sum_{i \\ne j}^n \\frac{Z_i Z_j e^2}{4\\pi\\epsilon_0|\\mathbf{R}_i-\\mathbf{R}_j|}}_\\text{nuclei-nuclei repulsions}-\\underbrace{\\sum_i^e\\sum_j^n \\frac{Z_je^2}{4\\pi\\epsilon_0|\\mathbf{r}_i-\\mathbf{R}_j|}}_\\text{electron-nuclei atractions}.\n",
    "\\end{align}\n",
    "\n",
    "Under the [Born-Oppenheimer approximation](https://en.wikipedia.org/wiki/Born%E2%80%93Oppenheimer_approximation), where the nuclei is assumed to be stationary with respect to the electron, one can eliminate the kinetic energy term of the nuclei, while the kinetic term of nuclei-nuclei repulsion becomes a constant $C$:\n",
    "\n",
    "\\begin{align}\n",
    "\\hat{H}_{approx} &= -\\sum_i^e \\frac{\\hbar^2 \\nabla^2_i}{2 m_e} - \\cancel{\\sum_i^n \\frac{\\hbar^2\\nabla^2_i}{2 M_i}} + \\sum_{i \\ne j}^e \\frac{e^2}{4\\pi\\epsilon_0|\\mathbf{r}_i-\\mathbf{r}_j|} + \\sum_{i \\ne j}^n \\cancel{\\frac{Z_i Z_j e^2}{4\\pi\\epsilon_0|\\mathbf{R}_i-\\mathbf{R}_j|}} + C -\\sum_i^e\\sum_j^n \\frac{Z_je^2}{4\\pi\\epsilon_0|\\mathbf{r}_i-\\mathbf{R}_j|} \\\\\n",
    "&=-\\sum_i^e \\frac{\\hbar^2 \\nabla^2_i}{2 m_e} + \\sum_{i \\ne j}^e \\frac{e^2}{4\\pi\\epsilon_0|\\mathbf{r}_i-\\mathbf{r}_j|} + C -\\sum_i^e\\sum_j^n \\frac{Z_je^2}{4\\pi\\epsilon_0|\\mathbf{r}_i-\\mathbf{R}_j|} .\n",
    "\\end{align}\n",
    "\n",
    "A convenient or short version of the above is the reduced Hamiltonian:\n",
    "\n",
    "$$\\hat{H}_{approx} = -\\sum_{i}^e \\frac{1}{2} \\nabla_i^2 + \\sum_{i \\ne j}^e \\frac{1}{|\\mathbf{r}_i-\\mathbf{r}_j|} + C -\\sum_i^e\\sum_j^n \\frac{Z_j}{|\\mathbf{r}_i-\\mathbf{R}_j|},$$\n",
    "\n",
    "where $\\frac{\\hbar^2}{m_e} \\doteq 1$ and $\\frac{e^2}{4\\pi\\epsilon_0} \\doteq 1$."
   ]
  },
  {
   "cell_type": "markdown",
   "id": "865bb0e6",
   "metadata": {},
   "source": [
    "## Slater determinant"
   ]
  },
  {
   "cell_type": "markdown",
   "id": "36919213",
   "metadata": {},
   "source": [
    "The wavefunction of a many-body fermionic system can be approximated by a single [slater determinant](https://en.wikipedia.org/wiki/Slater_determinant) which has the property of being antisymmetric under exchange of two electrons (or other fermions):\n",
    "\n",
    "\\begin{align}\n",
    "\\Psi(\\mathbf{x}_1, \\mathbf{x}_2, \\ldots, \\mathbf{x}_N) \n",
    "&= \\frac{1}{\\sqrt{N!}} \n",
    "\\begin{vmatrix} \n",
    "\\chi_1(\\mathbf{x}_1) & \\chi_2(\\mathbf{x}_1) & \\cdots & \\chi_N(\\mathbf{x}_1) \\\\\n",
    "\\chi_1(\\mathbf{x}_2) & \\chi_2(\\mathbf{x}_2) & \\cdots & \\chi_N(\\mathbf{x}_2) \\\\\n",
    "\\vdots & \\vdots & \\ddots & \\vdots \\\\\n",
    "\\chi_1(\\mathbf{x}_N) & \\chi_2(\\mathbf{x}_N) & \\cdots & \\chi_N(\\mathbf{x}_N)\n",
    "\\end{vmatrix} \n",
    "\\equiv | \\chi _1, \\chi _2, \\cdots, \\chi _N \\rangle.\n",
    "\\end{align}\n",
    "\n",
    "Where:\n",
    "\n",
    "- $\\chi(\\mathbf{x})$ denotes the spin-orbital.\n",
    "- $\\mathbf{x}$ denotes the position and spin coordinate of a single electron.\n",
    "\n",
    "The wavefunction can also be represented in the occupation number formalism as\n",
    "\n",
    "$$\\Psi = \\sum_i c_i |\\chi_i\\chi_j \\cdots \\chi_N \\rangle \\equiv |ij \\dots N \\rangle.$$\n",
    "\n",
    "Givens rotations [11] are used to prepare the initial state of the system represented by slater determinants."
   ]
  },
  {
   "cell_type": "markdown",
   "id": "616cf038",
   "metadata": {},
   "source": [
    "## Second Quantization"
   ]
  },
  {
   "cell_type": "markdown",
   "id": "6a2c0bb5",
   "metadata": {},
   "source": [
    "In the second quantization formalism, the framework of the modern quantum mechanics theory, the mapping from the first to the second quantization is given by the following rules:\n",
    "\n",
    "1. Single-particle operator:\n",
    "\n",
    "$$\\sum_i h(\\mathbf{x}_i) \\rightarrow \\sum_{pq} \\langle p |\\hat{h}|q \\rangle \\hat{a}_p^{\\dagger}\\hat{a}_q,$$\n",
    "\n",
    "with \n",
    "\n",
    "$$\\langle p|\\hat{h}| q\\rangle \\equiv h_{pq} = \\int_{-\\infty}^{\\infty} \\psi_{p}(\\mathbf{x}) \\Bigg( \\frac{1}{2}\\nabla_i^2 - \\sum_j^n \\frac{Z_j}{|\\mathbf{r}_i-\\mathbf{R}_j|}\\Bigg)\\psi_{q}(\\mathbf{x})d\\mathbf{x}.$$\n",
    "\n",
    "\n",
    "2. Two-particle operator (exchange term):\n",
    "\n",
    "$$\\sum_{i \\ne j} h(\\mathbf{x}_i, \\mathbf{x}_j) \\rightarrow \\sum_{pqrs}\\sum_{pq} \\Bigg( \\langle p_q |\\hat{h}| r_s \\rangle \\hat{a}_p^{\\dagger}\\hat{a}_q^{\\dagger}\\hat{a}_r \\hat{a}_s \\Bigg),$$\n",
    "\n",
    "with\n",
    "\n",
    "$$\\langle p_q |\\hat{h}| r_s \\rangle \\equiv h_{pqrs} = \\int_{-\\infty}^{\\infty} \\int_{-\\infty}^{\\infty}  \\psi_{p}^{\\dagger}(\\mathbf{x_1})\\psi^{\\dagger}_{q}(\\mathbf{x_1}) \\Bigg(\\frac{1}{|\\mathbf{r_1}-\\mathbf{r_2}|}\\Bigg)\\psi_{r}(\\mathbf{x_2})\\psi_{s}(\\mathbf{x_2})d\\mathbf{x_1}d\\mathbf{x_2}.$$\n",
    "\n",
    "The molecular electronic Hamiltonian then reads:\n",
    "\n",
    "$$\\hat{H}_{approx} = h_{pq}\\hat{a}_p^{\\dagger}\\hat{a}_q + h_{pqrs} \\hat{a}_p^{\\dagger}\\hat{a}_q^{\\dagger}\\hat{a}_r \\hat{a}_s + C.$$\n",
    "\n",
    "Where \n",
    "\n",
    "- $p$, $q$, $r$ and $s$ denote the spin-orbitals.\n",
    "- ${a}_p^{\\dagger}$ is the creation operator.\n",
    "- $\\hat{a}_q$ is the annihilation operator.\n",
    "- $C$ is the constant from the nuclei-nuclei repulsion under the [Born-Oppenheimer approximation](https://en.wikipedia.org/wiki/Born%E2%80%93Oppenheimer_approximation)."
   ]
  },
  {
   "cell_type": "markdown",
   "id": "3903047f",
   "metadata": {},
   "source": [
    "## The one-dimensional Fermi-Hubbard Hamiltonian"
   ]
  },
  {
   "cell_type": "markdown",
   "id": "603c8b56",
   "metadata": {},
   "source": [
    "The Fermi-Hubbard model is a many-body system, i.e, a system of many electrons, proposed to describe the behaviour of correlated electrons in solids. It is an extension of the tight-binding model, a toy model in condensed matter physics.\n",
    "\n",
    "To build the Hamiltonian of this system, the sum of kinetic energy and potential energy, one can thing of this system as a chain or lattice of atomic sites, where each site contains a single orbital. Following Pauli exclusion principle, where electrons can only occupy the same orbital if they have opposite spins, one can write the following states for each site of the lattice to represent the configuration of electrons in an orbital:\n",
    "\n",
    "- $|0\\rangle$: atomic site with no electron.\n",
    "- $|\\uparrow\\rangle$: atomic site with one electron with spin up.\n",
    "- $|\\downarrow\\rangle$: atomic site with one electron with spin down.\n",
    "- $|\\uparrow\\downarrow\\rangle$: atomic site with two electrons with opposite spins."
   ]
  },
  {
   "cell_type": "markdown",
   "id": "d867b966",
   "metadata": {},
   "source": [
    "The kinetic energy term of the Hamiltonian has the form:\n",
    "\n",
    "\\begin{eqnarray}\n",
    "\\hat{H}_T = - t \\sum_{i=0}^{N-1} \\sum_{\\sigma=\\uparrow, \\downarrow} (\\hat{a}^\\dagger_{i, \\sigma}  \\hat{a}_{i+1, \\sigma} +  \\hat{a}^\\dagger_{i+1, \\sigma}  \\hat{a}_{i, \\sigma}),\n",
    "\\end{eqnarray}\n",
    "\n",
    "which can also be written as:\n",
    "\n",
    "\\begin{eqnarray}\n",
    "\\hat{H}_T = -t\\sum_{\\langle i,j\\rangle,\\sigma}(\\hat{a}_{i,\\sigma}^\\dagger \\hat{a}_{j,\\sigma} + \\hat{a}_{j,\\sigma}^\\dagger \\hat{a}_{i,\\sigma}).\n",
    "\\end{eqnarray}\n",
    "\n",
    "Legend:\n",
    "\n",
    "- $t$ denotes the tunneling amplitude describing an electron tunneling or \"hopping\" from a site $i$ to its nearest neighbor $j=i+1$.\n",
    "- $\\sigma$ denotes the spin quantum number.\n",
    "- $\\langle i,j \\rangle$ denotes nearest neighbor atomic sites. \n",
    "- $\\hat{a}_{i,\\sigma}^\\dagger$ and $\\hat{a}_{i,\\sigma}$ denotes creation and anihilation operators acting on site $i$ with spin $\\sigma$, respectively. They represent the occupation of spin orbitals.\n",
    "- $\\hat{n} = \\hat{a}^{\\dagger}\\hat{a}$ denotes the number (density) operator representing the number of excited states.\n",
    "\n",
    "Creation and anihilation  operators have the following algebra:\n",
    "\n",
    "\\begin{eqnarray}\n",
    "\\hat{a}^\\dagger |n\\rangle &=& \\sqrt{n+1}|n+1\\rangle. \\\\\n",
    "\\hat{a}|n\\rangle &=& \\sqrt{n}|n-1\\rangle. \\\\\n",
    "\\hat{a}^{\\dagger}\\hat{a}|n\\rangle &=& n|n\\rangle. \\\\\n",
    "[\\hat{a}_i, \\hat{a}_j] &=& [\\hat{a}_{i}^\\dagger, \\hat{a}_{j}^\\dagger] = 0. \\\\\n",
    "[\\hat{a}_{i}, \\hat{a}_{j}^\\dagger] &=& \\hat{a}_{i}\\hat{a}_{j}^\\dagger-\\hat{a}_{j}^\\dagger\\hat{a}_{i} = \\delta_{ij}. \\\\\n",
    "\\{\\hat{a}_i, \\hat{a}_j\\}&=&\\{\\hat{a}_{i}^\\dagger, \\hat{a}_{j}^\\dagger\\} = 0. \\\\\n",
    "\\{\\hat{a}_{i}, \\hat{a}_{j}^\\dagger\\} &=& \\hat{a}_{i}\\hat{a}_{j}^\\dagger+\\hat{a}_{j}^\\dagger\\hat{a}_{i} = \\delta_{ij}. \\\\\n",
    "\\{\\hat{a}_{i,\\sigma}^\\dagger, \\hat{a}_{j,\\sigma'}\\} &=& \\delta_{i,j}\\delta_{\\sigma,\\sigma'}. \\\\\n",
    "\\{\\hat{a}_{i,\\sigma}^\\dagger, \\hat{a}_{i,\\sigma'}^\\dagger\\} &=& 0. \\\\\n",
    "\\{\\hat{a}_{i,\\sigma}, \\hat{a}_{j,\\sigma'}\\} &=& 0.\n",
    "\\end{eqnarray}\n",
    "\n",
    "In terms of matrix elements, the first two equations write:\n",
    "\n",
    "\\begin{eqnarray}\n",
    "\\langle m|a^{\\dagger}|n\\rangle &=& \\sqrt{n+1} \\delta_{m,n+1}.\\\\\n",
    "\\langle m|a|n\\rangle &=& \\sqrt{n} \\delta_{m,n-1}.\\\\\n",
    "\\end{eqnarray}\n",
    "\n",
    "Particular cases:\n",
    "\\begin{eqnarray}\n",
    "\\hat{a}|0\\rangle &=& 0. \\\\\n",
    "\\hat{a}|1\\rangle &=& 0. \\\\\n",
    "\\hat{a}^{\\dagger}|0\\rangle &=& |1\\rangle. \\\\\n",
    "\\hat{a}^{\\dagger}|1\\rangle &=& \\sqrt{2}|2\\rangle.\n",
    "\\end{eqnarray}"
   ]
  },
  {
   "cell_type": "markdown",
   "id": "a6b47c13",
   "metadata": {},
   "source": [
    "For the potential energy term, the chemical potential $\\mu$ describes the increase of energy per electron added to the system:\n",
    "\n",
    "\\begin{equation}\n",
    "\\hat{H}_\\mu = -\\mu \\sum_{i,\\sigma} \\hat{n}_{i,\\sigma} = - \\mu \\sum_{i=0}^{N-1} \\sum_{\\sigma=\\uparrow, \\downarrow}  \\hat{a}^\\dagger_{i, \\sigma} \\hat{a}_{i, \\sigma}.\n",
    "\\end{equation}"
   ]
  },
  {
   "cell_type": "markdown",
   "id": "809ab99f",
   "metadata": {},
   "source": [
    "Lastly, the local Coulomb interaction between electrons is given by the term:\n",
    "\n",
    "\\begin{eqnarray}\n",
    "\\hat{H}_U = U \\sum_{i=0}^{N-1} \\hat{n}_{i, \\uparrow} \\hat{n}_{i, \\downarrow} = U \\sum_{i=0}^{N-1} \\hat{a}^\\dagger_{i, \\uparrow}  \\hat{a}_{i, \\uparrow}  \\hat{a}^\\dagger_{i, \\downarrow} \\hat{a}_{i, \\downarrow},\n",
    "\\end{eqnarray}\n",
    "\n",
    "where $U$ describes the Coulomb repulsion between pair of electrons occupying the same lattice site.\n",
    "\n",
    "The full one-dimensional Fermi-Hubbard Hamiltonian thus becomes:\n",
    "\n",
    "\\begin{eqnarray}\n",
    "\\hat{H} &=& \\hat{H}_T + \\hat{H}_\\mu + \\hat{H}_U \\\\\n",
    "&=& - t \\sum_{i=0}^{N-1} \\sum_{\\sigma=\\uparrow, \\downarrow} (\\hat{a}^\\dagger_{i, \\sigma}  \\hat{a}_{i+1, \\sigma} +  \\hat{a}^\\dagger_{i+1, \\sigma}  \\hat{a}_{i, \\sigma})  - \\mu \\sum_{i=0}^{N-1} \\sum_{\\sigma=\\uparrow, \\downarrow}  \\hat{a}^\\dagger_{i, \\sigma} \\hat{a}_{i, \\sigma} + U \\sum_{i=0}^{N-1} \\hat{a}^\\dagger_{i, \\uparrow}  \\hat{a}_{i, \\uparrow}  \\hat{a}^\\dagger_{i, \\downarrow} \\hat{a}_{i, \\downarrow}.\n",
    "\\end{eqnarray}"
   ]
  },
  {
   "cell_type": "markdown",
   "id": "f131f747",
   "metadata": {},
   "source": [
    "## The [Jordan–Wigner mapping](https://en.wikipedia.org/wiki/Jordan%E2%80%93Wigner_transformation)"
   ]
  },
  {
   "cell_type": "markdown",
   "id": "9beda4d7",
   "metadata": {},
   "source": [
    "To perform gate-based quantum computation, one needs to map the fermionic Hamiltonian (second quantization) given in terms of its fermionic operators into a spin qubit-equivalent Hamiltonian using either Bravyi-Kitaev or the inverted Jordan–Wigner transformation. This transformation will map each atomic site a.k.a fermionic mode to a single qubit. The Jordan–Wigner transformation maps the creation and anihilation operators to Pauli matrices according to:\n",
    "\n",
    "$$\\hat{a}_i \\rightarrow Z_1 \\otimes \\cdots \\otimes Z_{i-1} \\otimes \\frac{1}{2}(X_i +i Y_i).$$\n",
    "$$\\hat{a}^{\\dagger}_i \\rightarrow Z_1 \\otimes \\cdots \\otimes Z_{i-1} \\otimes \\frac{1}{2}(X_i - i Y_i).$$\n",
    "\n",
    "Where:\n",
    "\n",
    "- $i$ denotes the $i$-th fermionic mode.\n",
    "- $X_i$ is the Pauli-X operator (gate) acting on the $i$-th mode.\n",
    "- $Y_i$ is the Pauli-Y operator (gate) acting on the $i$-th mode.\n",
    "- $Z_i$ is the Pauli-Z operator (gate) acting on the $i$-th mode.\n",
    "\n",
    "Note that the tensor products of $Z$ are added to account for the anti-commutativity property of the creation and anihilation operators, i.e, the antisymmetry of fermions.\n",
    "\n",
    "Particular cases:\n",
    "\n",
    "- $\\hat{a}_1 =\\frac{1}{2}(X_1 +i Y_1).$\n",
    "- $\\hat{a}_2 = Z_1 \\otimes \\frac{1}{2}(X_2 +i Y_2).$\n",
    "- $\\hat{a}_3 = Z_1 \\otimes Z_2 \\otimes \\frac{1}{2}(X_3 +i Y_3).$\n",
    "\n",
    "Using $\\sigma_j \\sigma_k = \\delta_{jk} \\mathbb{I} + i\\epsilon_{jkl} \\sigma_l$ and also $[\\sigma_j, \\sigma_k] = 2i\\epsilon_{ijk} \\sigma_k$, the number operator becomes:\n",
    "\n",
    "\\begin{eqnarray} \n",
    "\\hat{n}_i = \\hat{a}_i^\\dagger \\hat{a}_i &=& \\frac{1}{2}(X_i - i Y_i) \\frac{1}{2}(X_i + i Y_i), \\\\\n",
    "&=& \\frac{1}{4}(X_i^2 + iX_iY_i - iY_iX_i + Y_i^2, \\\\\n",
    "&=& \\frac{1}{4}(\\mathbb{I} + iX_iY_i - iY_iX_i + \\mathbb{I}) \\\\\n",
    "&=& \\frac{1}{4}(2\\mathbb{I}+i[X_i, Y_i]), \\\\\n",
    "&=& \\frac{1}{4}(2\\mathbb{I}+i2i\\epsilon_{123}\\sigma_3), \\\\\n",
    "&=& \\frac{1}{4}(2\\mathbb{I}-2Z_i), \\\\\n",
    "&=& \\frac{(\\mathbb{I}-Z_i)}{2}.\n",
    "\\end{eqnarray}\n",
    "\n",
    "With that:\n",
    "\n",
    "- **Hopping Term:** $(\\hat{a}^\\dagger_{i, \\sigma}  \\hat{a}_{j, \\sigma} +  \\hat{a}^\\dagger_{j, \\sigma}  \\hat{a}_{i, \\sigma}) \\rightarrow \\frac{1}{2} (X_{i}X_{j} + Y_{i}Y_{j})Z_{i+1}\\cdots Z_{j-1}.$\n",
    "\n",
    "- **Chemical potential term:** $\\hat{a}^\\dagger_{i, \\sigma} \\hat{a}_{i, \\sigma} \\rightarrow \\frac{(\\mathbb{I}-Z_{i})}{2}.$\n",
    "\n",
    "- **Onsite term:** $\\hat{a}^\\dagger_{i}  \\hat{a}_{i}  \\hat{a}^\\dagger_{j} \\hat{a}_{j} \\rightarrow \\frac{1}{4} (\\mathbb{I}-Z_{i})(\\mathbb{I}-Z_j).$\n",
    "\n",
    "Plugging the results into the fermionic Hamiltonian, one gets:\n",
    "\n",
    "$$\n",
    "    \\hat{H} = -\\frac{t}{2}\\sum_{\\langle ij\\rangle}(X_{i}X_{j} + Y_{i}Y_{j})Z_{i+1}\\cdots Z_{j-1} - \\mu \\sum_{i=0}^{N-1} \\frac{(\\mathbb{I}-Z_{i})}{2} + \\frac{U}{4} \\sum_{i=0}^{N-1} (\\mathbb{I}-Z_i)(\\mathbb{I}-Z_j).\n",
    "$$"
   ]
  },
  {
   "cell_type": "markdown",
   "id": "8972b114",
   "metadata": {},
   "source": [
    "## Trotter evolution"
   ]
  },
  {
   "cell_type": "markdown",
   "id": "d49b8b2e",
   "metadata": {},
   "source": [
    "The dynamics of a system of particles is determined by the linear differential and time-dependent Schrödinger equation, which in the matrix mechanics formalism of the Hilbert state space a.k.a statevector reads:\n",
    "\n",
    "\\begin{eqnarray}\n",
    "i \\hbar\\frac{d}{dt}|\\psi(t)\\rangle= \\hat{H} |\\psi(t)\\rangle,\n",
    "\\end{eqnarray}\n",
    "\n",
    "Alternatively, the Schrödinger equation of the time-dependent evolution operator $\\hat{U}(t)$ writes:\n",
    "\n",
    "\\begin{equation} \n",
    "i\\hbar \\frac{d}{dt}(\\hat{U}(t) |\\psi(0)\\rangle)=\\hat{H}(t) (\\hat{U}(t) |\\psi(0)\\rangle).\n",
    "\\end{equation}  \n",
    "\n",
    "In the particular case of a **time-independent Hamiltonian (conservative system)**, solution for the Schrödinger equation writes:\n",
    "\n",
    "$$|\\psi(t+\\Delta t)\\rangle = e^{-iH\\Delta t}|\\psi(t)\\rangle.$$\n",
    "\n",
    "In most cases, it is convenient to decompose the Hamiltonian into a sum of reduced parts:\n",
    "\n",
    "\\begin{eqnarray}\n",
    "\\hat{H}= \\sum_{i=1}^{N} \\hat{H}_{i},\n",
    "\\end{eqnarray}\n",
    "\n",
    "In general, the reduced Hamiltonians do not commute, i.e, $[\\hat{H}_j, \\hat{H}_k] \\neq \\mathbb{O}$, and thus $e^{-i\\hat{H} t} \\neq \\prod_j e^{-i\\hat{H}_j t}$, that is to say:\n",
    "\n",
    "$$e^{-i\\hat{H}t} = e^{-i\\hat{H}_1\\cdot t} \\cdot e^{-i\\hat{H}_2\\cdot t} \\cdots e^{-i\\hat{H}_n\\cdot t} \\text{ iff } [\\hat{H}_j, \\hat{H}_k]=\\mathbb{O}.$$\n",
    "\n",
    "When $[\\hat{H}_j, \\hat{H}_k] \\neq \\mathbb{O}$, one cannot simply write the evolution operator $\\hat{U}$ as a product of evolution operators, therefore, another method must be adopted. There are several techniques to approximate a time Unitary evolution $\\hat{U}=e^{-i\\hat{H}t/\\hbar}$ into gate operations for quantum simulation, to name a few:\n",
    "\n",
    "1. Trotter-Susuki formula.\n",
    "2. Randomized evolution (Qdrift, density matrix exponentiation).\n",
    "3. Linear combination of unitaries.\n",
    "4. Quantum Walks (Qubitization).\n",
    "\n",
    "Exact analytical solution for the Hubbard model is only available at one-dimension, nevertheless, one can apply the Lie product formula a.k.a Trotter-Susuki formula which is defined as (setting $\\hbar\\equiv1$):\n",
    "\n",
    "\\begin{align}\n",
    "U_{Trotter}(t) = e^{-it\\Big(\\hat{H}_a + \\hat{H}_b\\Big)} \\equiv \\lim_{N\\rightarrow\\infty}\\Big(e^{-it \\hat{H}_a/N}e^{-it \\hat{H}_b /N}\\Big)^{N}.\n",
    "\\end{align}\n",
    "\n",
    "Advantages of using Trotterization:\n",
    "\n",
    "- The algorithm is ancilla-free.\n",
    "\n",
    "- It leverages the commutative property of the component Hamiltonians to achieve efficient simulation.\n",
    "\n",
    "- It preserves the locality property of some unidimensional systems with nearest neighbor interactions enabling quantum simulation speed up."
   ]
  },
  {
   "cell_type": "markdown",
   "id": "1ba8dfc6",
   "metadata": {},
   "source": [
    "### Hopping terms"
   ]
  },
  {
   "cell_type": "markdown",
   "id": "2ca0a6f4",
   "metadata": {},
   "source": [
    "Applying trotter decomposition, one gets:\n",
    "\n",
    "\\begin{eqnarray}\n",
    "e^{-i\\Delta t(\\frac{-t}{2})(X_i \\otimes X_j + Y_i \\otimes Y_j)} \\approx e^{\\frac{it\\Delta t}{2}X_i \\otimes X_j} e^{\\frac{it\\Delta t}{2}Y_i \\otimes Y_j}.\n",
    "\\end{eqnarray}\n",
    "\n",
    "Note that $Z$ terms are ignored for a Hamiltonian of a 3-site lattice."
   ]
  },
  {
   "cell_type": "markdown",
   "id": "11a24ce3",
   "metadata": {},
   "source": [
    "#### $X_iX_j$ term"
   ]
  },
  {
   "cell_type": "markdown",
   "id": "cb087edb",
   "metadata": {},
   "source": [
    "Using the spectral decomposition theorem for the operator function (see Appendix):\n",
    "\n",
    "$$e^{\\frac{it\\Delta t}{2}X_i \\otimes X_j} = e^{\\frac{it\\Delta t}{2}}\\bigg(|++\\rangle\\langle ++|+|--\\rangle\\langle --|\\bigg)+e^{\\frac{-it\\Delta t}{2}}\\bigg(|+-\\rangle\\langle +-|+|-+\\rangle\\langle -+|\\bigg).$$"
   ]
  },
  {
   "cell_type": "code",
   "execution_count": 2,
   "id": "b962c892",
   "metadata": {},
   "outputs": [],
   "source": [
    "import sympy as sym\n",
    "\n",
    "theta = sym.symbols('theta')\n",
    "zero = sym.Matrix([[1, 0]])  # A 2-D row-like (bra vector) sympy matrix representing the classical state <0|.\n",
    "one = sym.Matrix([[0, 1]])   # A 2-D row-like (bra vector) sympy matrix representing the classical state <1|.\n",
    "plus = 1/sym.sqrt(2) * (zero + one)   # 2-D row-like sympy matrix (bra vector) representing the superposition state <+| = 1/[sqrt(2)](<0| + <1|).\n",
    "minus = 1/sym.sqrt(2) * (zero - one)  # 2-D row-like sympy matrix (bra vector) representing the superposition state <-| = 1/[sqrt(2)](<0| - <1|)."
   ]
  },
  {
   "cell_type": "code",
   "execution_count": 3,
   "id": "595d39a5",
   "metadata": {},
   "outputs": [
    {
     "data": {
      "text/latex": [
       "$\\displaystyle \\left[\\begin{matrix}\\frac{e^{1.0 i \\theta}}{2} + \\frac{e^{- 1.0 i \\theta}}{2} & 0 & 0 & \\frac{e^{1.0 i \\theta}}{2} - \\frac{e^{- 1.0 i \\theta}}{2}\\\\0 & \\frac{e^{1.0 i \\theta}}{2} + \\frac{e^{- 1.0 i \\theta}}{2} & \\frac{e^{1.0 i \\theta}}{2} - \\frac{e^{- 1.0 i \\theta}}{2} & 0\\\\0 & \\frac{e^{1.0 i \\theta}}{2} - \\frac{e^{- 1.0 i \\theta}}{2} & \\frac{e^{1.0 i \\theta}}{2} + \\frac{e^{- 1.0 i \\theta}}{2} & 0\\\\\\frac{e^{1.0 i \\theta}}{2} - \\frac{e^{- 1.0 i \\theta}}{2} & 0 & 0 & \\frac{e^{1.0 i \\theta}}{2} + \\frac{e^{- 1.0 i \\theta}}{2}\\end{matrix}\\right]$"
      ],
      "text/plain": [
       "Matrix([\n",
       "[exp(1.0*I*theta)/2 + exp(-1.0*I*theta)/2,                                        0,                                        0, exp(1.0*I*theta)/2 - exp(-1.0*I*theta)/2],\n",
       "[                                       0, exp(1.0*I*theta)/2 + exp(-1.0*I*theta)/2, exp(1.0*I*theta)/2 - exp(-1.0*I*theta)/2,                                        0],\n",
       "[                                       0, exp(1.0*I*theta)/2 - exp(-1.0*I*theta)/2, exp(1.0*I*theta)/2 + exp(-1.0*I*theta)/2,                                        0],\n",
       "[exp(1.0*I*theta)/2 - exp(-1.0*I*theta)/2,                                        0,                                        0, exp(1.0*I*theta)/2 + exp(-1.0*I*theta)/2]])"
      ]
     },
     "execution_count": 3,
     "metadata": {},
     "output_type": "execute_result"
    }
   ],
   "source": [
    "from sympy.physics.quantum import TensorProduct, OuterProduct\n",
    "\n",
    "(\n",
    "sym.exp(1j*theta)*(TensorProduct(plus.T,plus.T)@TensorProduct(plus,plus)\n",
    "+TensorProduct(minus.T,minus.T)@TensorProduct(minus,minus))\n",
    "+sym.exp(-1j*theta)*(TensorProduct(plus.T,minus.T)@TensorProduct(plus,minus)\n",
    "+TensorProduct(minus.T,plus.T)@TensorProduct(minus,plus))\n",
    ")"
   ]
  },
  {
   "cell_type": "markdown",
   "id": "07ccd231",
   "metadata": {},
   "source": [
    "Alternatively, recall that a single-qubit standard rotation gate $R_{\\hat{n}}(\\theta)$ performing an arbitrary angle of $\\theta$ radians around an arbitrary $\\hat{n}$ axis of the Bloch sphere can be generated by exponentiating the corresponding Pauli operator, as follows:\n",
    "\n",
    "$$ R_{\\hat{n}}(\\theta) \\equiv e^{\\pm i(\\hat{n} \\cdot \\vec{\\sigma})\\theta /2}= \\cos(\\theta/2) \\mathbb{I} \\pm i \\sin(\\theta/2)(\\hat{n}\\cdot \\vec{\\sigma}).$$\n",
    "\n",
    "See the Appendix for a proof.\n",
    "\n",
    "With that, the two-qubit $XX$ gate reads:\n",
    "\n",
    "$$e^{\\frac{it\\Delta t}{2}X_i\\otimes X_j} = \\cos\\Big(\\frac{t\\Delta t}{2}\\Big) \\mathbb{I} \\otimes \\mathbb{I} + i\\sin\\Big(\\frac{t\\Delta t}{2}\\Big) X_i \\otimes X_j.$$"
   ]
  },
  {
   "cell_type": "code",
   "execution_count": 4,
   "id": "c5d2ce38",
   "metadata": {
    "scrolled": true
   },
   "outputs": [
    {
     "data": {
      "text/latex": [
       "$\\displaystyle \\left[\\begin{matrix}\\cos{\\left(\\theta \\right)} & 0 & 0 & 1.0 i \\sin{\\left(\\theta \\right)}\\\\0 & \\cos{\\left(\\theta \\right)} & 1.0 i \\sin{\\left(\\theta \\right)} & 0\\\\0 & 1.0 i \\sin{\\left(\\theta \\right)} & \\cos{\\left(\\theta \\right)} & 0\\\\1.0 i \\sin{\\left(\\theta \\right)} & 0 & 0 & \\cos{\\left(\\theta \\right)}\\end{matrix}\\right]$"
      ],
      "text/plain": [
       "Matrix([\n",
       "[      cos(theta),                0,                0, 1.0*I*sin(theta)],\n",
       "[               0,       cos(theta), 1.0*I*sin(theta),                0],\n",
       "[               0, 1.0*I*sin(theta),       cos(theta),                0],\n",
       "[1.0*I*sin(theta),                0,                0,       cos(theta)]])"
      ]
     },
     "execution_count": 4,
     "metadata": {},
     "output_type": "execute_result"
    }
   ],
   "source": [
    "theta = sym.symbols('theta')\n",
    "X = sym.Matrix([[0, 1], [1, 0]])\n",
    "XX = TensorProduct(X, X)\n",
    "\n",
    "sym.cos(theta)*sym.eye(4) + 1j*sym.sin(theta)*XX"
   ]
  },
  {
   "cell_type": "code",
   "execution_count": 5,
   "id": "78b8e6dd",
   "metadata": {},
   "outputs": [
    {
     "data": {
      "text/html": [
       "<pre style=\"word-wrap: normal;white-space: pre;background: #fff0;line-height: 1.1;font-family: &quot;Courier New&quot;,Courier,monospace\">     ┌───┐                        ┌───┐\n",
       "q_0: ┤ H ├──■──────────────────■──┤ H ├\n",
       "     ├───┤┌─┴─┐┌────────────┐┌─┴─┐├───┤\n",
       "q_1: ┤ H ├┤ X ├┤ Rz(-0.5*t) ├┤ X ├┤ H ├\n",
       "     └───┘└───┘└────────────┘└───┘└───┘</pre>"
      ],
      "text/plain": [
       "     ┌───┐                        ┌───┐\n",
       "q_0: ┤ H ├──■──────────────────■──┤ H ├\n",
       "     ├───┤┌─┴─┐┌────────────┐┌─┴─┐├───┤\n",
       "q_1: ┤ H ├┤ X ├┤ Rz(-0.5*t) ├┤ X ├┤ H ├\n",
       "     └───┘└───┘└────────────┘└───┘└───┘"
      ]
     },
     "execution_count": 5,
     "metadata": {},
     "output_type": "execute_result"
    }
   ],
   "source": [
    "# Circuit for the XX(t) gate:\n",
    "\n",
    "from qiskit import QuantumCircuit\n",
    "from qiskit.circuit import Parameter\n",
    "\n",
    "t = Parameter('t')\n",
    "qc = QuantumCircuit(2, name='XX')\n",
    "qc.h([0,1])\n",
    "qc.cx(0, 1)\n",
    "qc.rz(-t/2, 1)\n",
    "qc.cx(0, 1)\n",
    "qc.h([0,1])\n",
    "qc.draw()"
   ]
  },
  {
   "cell_type": "markdown",
   "id": "80748475",
   "metadata": {},
   "source": [
    "This circuit was derived [here](https://github.com/QuCAI-Lab/quantum-circuit-theory/blob/dev/notebooks/04_two_qubit_gates.ipynb)."
   ]
  },
  {
   "cell_type": "markdown",
   "id": "2bd4a134",
   "metadata": {},
   "source": [
    "#### $Y_iY_j$ term"
   ]
  },
  {
   "cell_type": "markdown",
   "id": "e7d7bc71",
   "metadata": {},
   "source": [
    "Similarly, \n",
    "\n",
    "\\begin{eqnarray}\n",
    "e^{\\frac{it\\Delta t}{2}Y_i \\otimes Y_j} = e^{\\frac{it\\Delta t}{2}}\\Bigg(|\\oplus\\oplus\\rangle\\langle \\oplus\\oplus|+|\\ominus\\ominus\\rangle\\langle \\ominus\\ominus|\\Bigg) + e^{\\frac{-it\\Delta t}{2}}\\Bigg(|\\oplus\\ominus\\rangle\\langle \\oplus\\ominus|+|\\ominus\\oplus\\rangle\\langle \\ominus\\oplus|\\Bigg).\n",
    "\\end{eqnarray}\n",
    "\n",
    "Alternatively, using the single-qubit standard rotation (proof in Appendix):\n",
    "\n",
    "$$e^{\\frac{it\\Delta t}{2}Y_i \\otimes Y_j} = \\cos\\Big(\\frac{t\\Delta t}{2}\\Big) \\mathbb{I} \\otimes \\mathbb{I} + i\\sin\\Big(\\frac{t\\Delta t}{2}\\Big) Y_i \\otimes Y_j.$$"
   ]
  },
  {
   "cell_type": "code",
   "execution_count": 6,
   "id": "ca85f0bf",
   "metadata": {},
   "outputs": [
    {
     "data": {
      "text/latex": [
       "$\\displaystyle \\left[\\begin{matrix}\\cos{\\left(\\theta \\right)} & 0 & 0 & - 1.0 i \\sin{\\left(\\theta \\right)}\\\\0 & \\cos{\\left(\\theta \\right)} & 1.0 i \\sin{\\left(\\theta \\right)} & 0\\\\0 & 1.0 i \\sin{\\left(\\theta \\right)} & \\cos{\\left(\\theta \\right)} & 0\\\\- 1.0 i \\sin{\\left(\\theta \\right)} & 0 & 0 & \\cos{\\left(\\theta \\right)}\\end{matrix}\\right]$"
      ],
      "text/plain": [
       "Matrix([\n",
       "[       cos(theta),                0,                0, -1.0*I*sin(theta)],\n",
       "[                0,       cos(theta), 1.0*I*sin(theta),                 0],\n",
       "[                0, 1.0*I*sin(theta),       cos(theta),                 0],\n",
       "[-1.0*I*sin(theta),                0,                0,        cos(theta)]])"
      ]
     },
     "execution_count": 6,
     "metadata": {},
     "output_type": "execute_result"
    }
   ],
   "source": [
    "Y = sym.Matrix([[0, -1j], [1j, 0]])\n",
    "YY = TensorProduct(Y, Y)\n",
    "\n",
    "sym.cos(theta)*sym.eye(4) + 1j*sym.sin(theta)*YY"
   ]
  },
  {
   "cell_type": "code",
   "execution_count": 7,
   "id": "566ec5ae",
   "metadata": {},
   "outputs": [
    {
     "data": {
      "text/html": [
       "<pre style=\"word-wrap: normal;white-space: pre;background: #fff0;line-height: 1.1;font-family: &quot;Courier New&quot;,Courier,monospace\">     ┌─────┐┌───┐                        ┌───┐┌───┐\n",
       "q_0: ┤ Sdg ├┤ H ├──■──────────────────■──┤ H ├┤ S ├\n",
       "     ├─────┤├───┤┌─┴─┐┌────────────┐┌─┴─┐├───┤├───┤\n",
       "q_1: ┤ Sdg ├┤ H ├┤ X ├┤ Rz(-0.5*t) ├┤ X ├┤ H ├┤ S ├\n",
       "     └─────┘└───┘└───┘└────────────┘└───┘└───┘└───┘</pre>"
      ],
      "text/plain": [
       "     ┌─────┐┌───┐                        ┌───┐┌───┐\n",
       "q_0: ┤ Sdg ├┤ H ├──■──────────────────■──┤ H ├┤ S ├\n",
       "     ├─────┤├───┤┌─┴─┐┌────────────┐┌─┴─┐├───┤├───┤\n",
       "q_1: ┤ Sdg ├┤ H ├┤ X ├┤ Rz(-0.5*t) ├┤ X ├┤ H ├┤ S ├\n",
       "     └─────┘└───┘└───┘└────────────┘└───┘└───┘└───┘"
      ]
     },
     "execution_count": 7,
     "metadata": {},
     "output_type": "execute_result"
    }
   ],
   "source": [
    "# Circuit for the YY(t) gate:\n",
    "\n",
    "from qiskit import QuantumCircuit\n",
    "from qiskit.circuit import Parameter\n",
    "\n",
    "t = Parameter('t')\n",
    "qc = QuantumCircuit(2, name='YY')\n",
    "qc.sdg([0,1])\n",
    "qc.h([0,1])\n",
    "qc.cx(0, 1)\n",
    "qc.rz(-t/2, 1)\n",
    "qc.cx(0, 1)\n",
    "qc.h([0,1])\n",
    "qc.s([0,1])\n",
    "qc.draw()"
   ]
  },
  {
   "cell_type": "markdown",
   "id": "2a6bf3b1",
   "metadata": {},
   "source": [
    "This circuit was derived [here](https://github.com/QuCAI-Lab/quantum-circuit-theory/blob/dev/notebooks/04_two_qubit_gates.ipynb)."
   ]
  },
  {
   "cell_type": "markdown",
   "id": "b9267a36",
   "metadata": {},
   "source": [
    "### On-site terms"
   ]
  },
  {
   "cell_type": "markdown",
   "id": "982f1646",
   "metadata": {},
   "source": [
    "Using $e^{A}=\\sum_{n=0}^{\\infty}\\frac{A^{n}}{n!}$, then\n",
    "\n",
    "\\begin{eqnarray}\n",
    "e^{-i\\frac{U \\Delta t}{4}(\\mathbb{I}_2-Z_i)\\otimes(\\mathbb{I}_2-Z_j)} &=& \\sum_{n=0}^{\\infty}\\frac{\\Big(i\\frac{-U \\Delta t}{4}(\\mathbb{I}_2-Z_i)\\otimes(\\mathbb{I}_2-Z_j)\\Big)^{n}}{n!}.\n",
    "\\end{eqnarray}\n",
    "\n",
    "Recall that $(A\\otimes B)(C \\otimes D) = AC\\otimes BD$. This identity was proven [here](https://github.com/QuCAI-Lab/quantum-circuit-theory/blob/dev/notebooks/algebraic_identities.ipynb).\n",
    "\n",
    "Hence, $(A\\otimes B)^n = (A\\otimes B)\\cdots (A\\otimes B) = A^n \\otimes B^n$, such that\n",
    "\n",
    "\\begin{eqnarray}\n",
    "e^{-i\\frac{U \\Delta t}{4}(\\mathbb{I}_2-Z_i)\\otimes(\\mathbb{I}_2-Z_j)} &=& \\sum_{\\mathbf{n=0}}^{\\infty}\\frac{1}{n!}\\Big(-i\\frac{U \\Delta t}{4}\\Big)^{n}(\\mathbb{I}_2-Z_i)^n\\otimes(\\mathbb{I}_2-Z_j)^n.\n",
    "\\end{eqnarray}"
   ]
  },
  {
   "cell_type": "markdown",
   "id": "92629a6a",
   "metadata": {},
   "source": [
    "The interesting identity to solve is \n",
    "\n",
    "$$(\\mathbb{I}_2-Z_i)^n\\otimes(\\mathbb{I}_2-Z_j)^n = 4^{n-1}(\\mathbb{I}_2-Z_i)\\otimes(\\mathbb{I}_2-Z_j).$$ \n",
    "\n",
    "[This notebook](https://github.com/kaelynj/Qiskit-HubbardModel/blob/main/Hubbard-Time-Evolution-2.0.ipynb) by @kaelynj presents one way to obtain this result via proof by induction."
   ]
  },
  {
   "cell_type": "code",
   "execution_count": 106,
   "id": "4dd52489",
   "metadata": {},
   "outputs": [
    {
     "data": {
      "text/latex": [
       "$\\displaystyle \\left[\\begin{matrix}0^{n} & 0 & 0 & 0\\\\0 & 0^{n} 2^{n} & 0 & 0\\\\0 & 0 & 0^{n} 2^{n} & 0\\\\0 & 0 & 0 & 2^{2 n}\\end{matrix}\\right]$"
      ],
      "text/plain": [
       "Matrix([\n",
       "[0**n,         0,         0,        0],\n",
       "[   0, 0**n*2**n,         0,        0],\n",
       "[   0,         0, 0**n*2**n,        0],\n",
       "[   0,         0,         0, 2**(2*n)]])"
      ]
     },
     "execution_count": 106,
     "metadata": {},
     "output_type": "execute_result"
    }
   ],
   "source": [
    "# Quick check\n",
    "\n",
    "#LHS:\n",
    "Z = sym.Matrix([[1, 0], [0, -1]])\n",
    "n = sym.symbols('n')\n",
    "TensorProduct((sym.eye(2)-Z)**n,(sym.eye(2)-Z)**n)"
   ]
  },
  {
   "cell_type": "code",
   "execution_count": 107,
   "id": "26012db8",
   "metadata": {},
   "outputs": [
    {
     "data": {
      "text/latex": [
       "$\\displaystyle \\left[\\begin{matrix}0 & 0 & 0 & 0\\\\0 & 0 & 0 & 0\\\\0 & 0 & 0 & 0\\\\0 & 0 & 0 & 4 \\cdot 4^{n - 1}\\end{matrix}\\right]$"
      ],
      "text/plain": [
       "Matrix([\n",
       "[0, 0, 0,            0],\n",
       "[0, 0, 0,            0],\n",
       "[0, 0, 0,            0],\n",
       "[0, 0, 0, 4*4**(n - 1)]])"
      ]
     },
     "execution_count": 107,
     "metadata": {},
     "output_type": "execute_result"
    }
   ],
   "source": [
    "#RHS:\n",
    "4**(n-1)*TensorProduct((sym.eye(2)-Z),(sym.eye(2)-Z))"
   ]
  },
  {
   "cell_type": "markdown",
   "id": "1fba1e83",
   "metadata": {},
   "source": [
    "However, note that this result only works for $n \\geq 1$. Therefore, one must expand the first term. Recall that, for any $d \\times d$ square matrix $A$:\n",
    "\n",
    "$$A^0 = \\mathbb{I}_d.$$\n",
    "\n",
    "Then, for $n=0$: $(\\mathbb{I}_2-Z_i)^0 \\otimes (\\mathbb{I}_2-Z_i)^0 = \\mathbb{I}_2 \\otimes \\mathbb{I}_2 = \\mathbb{I}_4.$\n",
    "\n",
    "\\begin{eqnarray}\n",
    "e^{-i\\frac{U \\Delta t}{4}(\\mathbb{I}_2-Z_i)\\otimes(\\mathbb{I}_2-Z_j)} &=& \\sum_{\\mathbf{n=0}}^{\\infty}\\frac{1}{n!}\\Big(-i\\frac{U \\Delta t}{4}\\Big)^{n}(\\mathbb{I}_2-Z_i)^n\\otimes(\\mathbb{I}_2-Z_j)^n \\\\\n",
    "&=& \\mathbb{I}_4 + \\sum_{\\mathbf{n=1}}^{\\infty}\\frac{1}{n!}\\Big(-i\\frac{U \\Delta t}{4}\\Big)^{n}(\\mathbb{I}_2-Z_i)^n\\otimes(\\mathbb{I}_2-Z_j)^n \\\\\n",
    "&=& \\mathbb{I}_4 + \\sum_{\\mathbf{n=1}}^{\\infty}\\frac{1}{n!}\\Big(-i\\frac{U \\Delta t}{4}\\Big)^{n}4^{n-1}(\\mathbb{I}_2-Z_i)\\otimes(\\mathbb{I}_2-Z_j).\n",
    "\\end{eqnarray}\n",
    "\n",
    "And using the definition $e^{A}=\\sum_{n=0}^{\\infty}\\frac{A^{n}}{n!}$, one gets:\n",
    "\n",
    "\\begin{eqnarray}\n",
    "e^{-i\\frac{U \\Delta t}{4}(\\mathbb{I}_2-Z_i)\\otimes(\\mathbb{I}_2-Z_j)}\n",
    "&=& \\mathbb{I}_4 + \\frac{e^{-iU\\Delta t}}{4}(\\mathbb{I}_2-Z_i)\\otimes(\\mathbb{I}_2-Z_j).\n",
    "\\end{eqnarray}"
   ]
  },
  {
   "cell_type": "markdown",
   "id": "8397f8d7",
   "metadata": {},
   "source": [
    "We know that a gate must be represented by a unitary matrix, and one can check that this result does not render a unitary matrix. Maybe we should go back and expand one more term:\n",
    "\n",
    "\\begin{eqnarray}\n",
    "e^{i\\frac{U \\Delta t}{4}(\\mathbb{I}_2-Z_i)\\otimes(\\mathbb{I}_2-Z_j)} &=&\n",
    "\\mathbb{I}_4 + \\sum_{\\mathbf{n=1}}^{\\infty}\\frac{1}{n!}\\Big(-i\\frac{U \\Delta t}{4}\\Big)^{n}4^{n-1}(\\mathbb{I}_2-Z_i)\\otimes(\\mathbb{I}_2-Z_j)\n",
    "\\\\\n",
    "&=& \\mathbb{I}_4 - \\frac{iU\\Delta t}{4} (\\mathbb{I}_2-Z_i)\\otimes(\\mathbb{I}_2-Z_j) + \\sum_{\\mathbf{n=2}}^{\\infty}\\frac{1}{n!}\\Big(-i\\frac{U \\Delta t}{4}\\Big)^{n}4^{n-1}(\\mathbb{I}_2-Z_i)\\otimes(\\mathbb{I}_2-Z_j)\n",
    "\\\\\n",
    "&=& \\mathbb{I}_4 - \\frac{iU\\Delta t}{4}(\\mathbb{I}_2-Z_i)\\otimes(\\mathbb{I}_2-Z_j) + \\frac{e^{-iU\\Delta t}}{4}(\\mathbb{I}_2-Z_i)\\otimes(\\mathbb{I}_2-Z_j).\n",
    "\\end{eqnarray}\n",
    "\n",
    "In [this notebook](https://github.com/kaelynj/Qiskit-HubbardModel/blob/main/Hubbard-Time-Evolution-2.0.ipynb) by @kaelynj, the $iU\\Delta t$ term vanishes (I am not sure why, check back sometime). Indeed removing this term renders the matrix unitary."
   ]
  },
  {
   "cell_type": "code",
   "execution_count": 360,
   "id": "1bd34fb4",
   "metadata": {},
   "outputs": [
    {
     "data": {
      "text/latex": [
       "$\\displaystyle \\left[\\begin{matrix}1 & 0 & 0 & 0\\\\0 & 1 & 0 & 0\\\\0 & 0 & 1 & 0\\\\0 & 0 & 0 & e^{- 1.0 i \\phi}\\end{matrix}\\right]$"
      ],
      "text/plain": [
       "Matrix([\n",
       "[1, 0, 0,               0],\n",
       "[0, 1, 0,               0],\n",
       "[0, 0, 1,               0],\n",
       "[0, 0, 0, exp(-1.0*I*phi)]])"
      ]
     },
     "execution_count": 360,
     "metadata": {},
     "output_type": "execute_result"
    }
   ],
   "source": [
    "phi = sym.symbols('phi')\n",
    "id2 = sym.eye(2)\n",
    "id4 = sym.eye(4)\n",
    "result = id4 - TensorProduct((id2-Z),(id2-Z))/4 + TensorProduct((id2-Z),(id2-Z))*sym.exp(-1j*phi)/4\n",
    "result"
   ]
  },
  {
   "cell_type": "code",
   "execution_count": 361,
   "id": "5e4c9a60",
   "metadata": {},
   "outputs": [
    {
     "data": {
      "text/latex": [
       "$\\displaystyle \\left[\\begin{matrix}1 & 0 & 0 & 0\\\\0 & 1 & 0 & 0\\\\0 & 0 & 1 & 0\\\\0 & 0 & 0 & e^{- 1.0 i \\phi} e^{1.0 i \\overline{\\phi}}\\end{matrix}\\right]$"
      ],
      "text/plain": [
       "Matrix([\n",
       "[1, 0, 0,                                         0],\n",
       "[0, 1, 0,                                         0],\n",
       "[0, 0, 1,                                         0],\n",
       "[0, 0, 0, exp(-1.0*I*phi)*exp(1.0*I*conjugate(phi))]])"
      ]
     },
     "execution_count": 361,
     "metadata": {},
     "output_type": "execute_result"
    }
   ],
   "source": [
    "# Check if matrix is unitary:\n",
    "\n",
    "result*result.conjugate()"
   ]
  },
  {
   "cell_type": "markdown",
   "id": "2ffd59b3",
   "metadata": {},
   "source": [
    "## Change of basis for Measurement"
   ]
  },
  {
   "cell_type": "markdown",
   "id": "d4d5b431",
   "metadata": {},
   "source": [
    "This step is not required for building the circuit Ansatz, only for measuring the circuit in each basis after decomposing (generally [Pauli decomposition](https://github.com/QuCAI-Lab/quantum-circuit-theory/blob/dev/notebooks/07_gate_decomposition.ipynb)) the Hamiltonian operator. Assuming that measurements will be computed by the QURI backend, one can refer to this section for educational purposes. \n",
    "\n",
    "Recall that (most) quantum computers can only perform measurements in the $Z$-basis, and the output of each measured qubit is one of its eigenstates (0 or 1). Whereas the expectation values are computed by the classical computer. To perform measurements in a different basis, a [change of basis](https://github.com/QuCAI-Lab/quantum-circuit-theory/blob/dev/notebooks/03_change_of_basis.ipynb) is required. This is achieved by applying appropriate quantum gates before a measurement."
   ]
  },
  {
   "cell_type": "markdown",
   "id": "6ff942d8",
   "metadata": {},
   "source": [
    "### On-site terms"
   ]
  },
  {
   "cell_type": "markdown",
   "id": "35f3b681",
   "metadata": {},
   "source": [
    "The unitary matrix corresponding to the on-site term is already diagonalized in the $Z$-basis. So there is no need to apply a change of basis (gates) for measurements."
   ]
  },
  {
   "cell_type": "markdown",
   "id": "5ceff12f",
   "metadata": {},
   "source": [
    "### Hubbard terms"
   ]
  },
  {
   "cell_type": "markdown",
   "id": "6f1c8ecc",
   "metadata": {},
   "source": [
    "Hubbard terms require a change of basis since the unitary matrix is not diagonalized in the $Z$-basis. \n",
    "\n",
    "For $XX$ is the hadamard gate:\n",
    "\n",
    "$$H|0\\rangle = |+\\rangle.$$\n",
    "$$H|1\\rangle = |-\\rangle.$$\n",
    "\n",
    "For $YY$ is the $SH$ gate:\n",
    "\n",
    "$$SH|0\\rangle = R_x(-\\pi/2)|0\\rangle = |\\oplus\\rangle.$$\n",
    "$$SH|1\\rangle = R_x(\\pi/2)|0\\rangle = |\\ominus\\rangle.$$"
   ]
  },
  {
   "cell_type": "markdown",
   "id": "9ac1d094",
   "metadata": {},
   "source": [
    "# Utils"
   ]
  },
  {
   "cell_type": "code",
   "execution_count": 1,
   "id": "05d54342",
   "metadata": {},
   "outputs": [],
   "source": [
    "import matplotlib.pyplot as plt\n",
    "\n",
    "def plot(E_fci, iteration, energies):\n",
    "    fig=plt.figure()\n",
    "    fig.set_figheight(6)\n",
    "    fig.set_figwidth(10)\n",
    "    plt.plot(range(iteration), energies, \"go\", label=r\"$E_\\mathrm{HF}$\", ls=\"dashed\")\n",
    "    plt.plot(range(iteration), np.full(iteration, E_fci), label=r\"$E_\\mathrm{FCI}$\", color=\"red\")\n",
    "    plt.title('VQE optimization for the Fermi-Hubbard Model')\n",
    "    plt.legend(loc='upper right')\n",
    "    plt.xlabel('Optimization step')\n",
    "    plt.ylabel('Energy (Hartree)')\n",
    "    plt.show()"
   ]
  },
  {
   "cell_type": "markdown",
   "id": "fe7a0f8e",
   "metadata": {},
   "source": [
    "# Proposed ansatz"
   ]
  },
  {
   "cell_type": "markdown",
   "id": "adba8bbd",
   "metadata": {},
   "source": [
    "The following is the proposed circuit ansatz which consists of the on-site and hopping gates derived above from the time-evolution of the Fermi-Hubbard Hamiltonian.\n",
    "\n",
    "The `qiskit_gates()` function still has room for improvements. For instance, hard coding the gates instead of using `qc.unitary()` would give more control refraining the compiler from performing unwanted decompositions, thus avoiding non-trivial transpilation (qubit routing). Recall that transpilation converts the gates in the circuit into the native gate set of the particular quantum hardware (processor).\n",
    "\n",
    "Gates were hard coded in the `quri_gates()` function, however, the current implementation is not satisfactory, taking too long to compute. "
   ]
  },
  {
   "cell_type": "code",
   "execution_count": 2,
   "id": "682d2b6c",
   "metadata": {
    "scrolled": false
   },
   "outputs": [],
   "source": [
    "from qiskit import QuantumCircuit as QuantumCircuitQiskit\n",
    "from qiskit.quantum_info import Operator\n",
    "import numpy as np\n",
    "\n",
    "def qiskit_gates(n_sites=4, trotter_steps=1, parameters=None, barrier=False, \n",
    "                  t=1.0, delta_t=1.0, U=3.0):      \n",
    "    '''\n",
    "    delta_t: time difference parameter.\n",
    "    U: on-site Coulomb repulsion between pair of electrons occupying the same lattice site.\n",
    "    t: tunneling amplitude parameter from the Hopping term.\n",
    "    '''       \n",
    "    n_qubits = 2 * n_sites\n",
    "    qc = QuantumCircuitQiskit(n_qubits)  \n",
    "    total_no_of_gates = int(n_sites + (n_qubits) // 2) #+ 4*(n_sites-1))\n",
    "    num_parameters = trotter_steps * total_no_of_gates\n",
    "    \n",
    "    if parameters is None:\n",
    "        parameters = np.random.rand(num_parameters)*2*np.pi*0.001\n",
    "        \n",
    "    theta = t * delta_t / 2\n",
    "    phi = 1j * U * delta_t\n",
    "        \n",
    "    def XX_gate(parameter, i, j):\n",
    "        qc.h([i,j])\n",
    "        qc.cx(i, j)\n",
    "        qc.rz(parameter, j)\n",
    "        qc.cx(i, j)\n",
    "        qc.h([i,j])\n",
    "\n",
    "    def YY_gate(parameter, i, j):\n",
    "        qc.sdg([i,j])\n",
    "        qc.h([i,j])\n",
    "        qc.cx(i, j)\n",
    "        qc.rz(parameter, j)\n",
    "        qc.cx(i, j)\n",
    "        qc.h([i,j])\n",
    "        qc.s([i,j])\n",
    "\n",
    "    def Givens_Rotations(parameter):\n",
    "        return Operator([[1, 0, 0, 0],\n",
    "                         [0, np.cos(parameter/2), -np.sin(parameter/2), 0],\n",
    "                         [0, np.sin(parameter/2), np.cos(parameter/2), 0],\n",
    "                         [0, 0, 0, 1]]) \n",
    "    \n",
    "    def on_site_gate(parameter, i, j):\n",
    "        unitary_matrix = Operator([[1, 0, 0, 0],\n",
    "                                   [0, 1, 0, 0],\n",
    "                                   [0, 0, 1, 0],\n",
    "                                   [0, 0, 0, np.exp(-parameter*phi)]])\n",
    "        qc.unitary(unitary_matrix, [i, j], label=f\"Onsite θ[{parameter_index}]\")\n",
    "    \n",
    "    def hopping_gate(parameter, i, j):\n",
    "        YY_gate(parameter, i, j)\n",
    "        XX_gate(parameter, i, j)\n",
    "\n",
    "    def get_angle():\n",
    "        nonlocal parameter_index\n",
    "        angle = parameters[parameter_index]\n",
    "        parameter_index += 1\n",
    "        return angle\n",
    "\n",
    "    parameter_index = 0\n",
    "    for _ in range(trotter_steps):\n",
    "        if barrier:\n",
    "            qc.barrier()\n",
    "        \n",
    "        for i in range(n_sites):\n",
    "            on_site_gate(get_angle(), i, i + n_sites)\n",
    "            \n",
    "        if barrier:\n",
    "            qc.barrier()\n",
    "            \n",
    "        for i in range(0, n_qubits, 2):\n",
    "            hopping_gate(get_angle(), i, i+1)\n",
    "            \n",
    "        if barrier:\n",
    "            qc.barrier()\n",
    "    \n",
    "    return qc"
   ]
  },
  {
   "cell_type": "code",
   "execution_count": 3,
   "id": "890d006e",
   "metadata": {
    "scrolled": true
   },
   "outputs": [
    {
     "data": {
      "text/html": [
       "<pre style=\"word-wrap: normal;white-space: pre;background: #fff0;line-height: 1.1;font-family: &quot;Courier New&quot;,Courier,monospace\">      ░ ┌──────────────┐                                                 ░ »\n",
       "q_0: ─░─┤0             ├─────────────────────────────────────────────────░─»\n",
       "      ░ │              │┌──────────────┐                                 ░ »\n",
       "q_1: ─░─┤              ├┤0             ├─────────────────────────────────░─»\n",
       "      ░ │              ││              │┌──────────────┐                 ░ »\n",
       "q_2: ─░─┤  Onsite θ[1] ├┤              ├┤0             ├─────────────────░─»\n",
       "      ░ │              ││              ││              │┌──────────────┐ ░ »\n",
       "q_3: ─░─┤              ├┤  Onsite θ[2] ├┤              ├┤0             ├─░─»\n",
       "      ░ │              ││              ││              ││              │ ░ »\n",
       "q_4: ─░─┤1             ├┤              ├┤  Onsite θ[3] ├┤              ├─░─»\n",
       "      ░ └──────────────┘│              ││              ││              │ ░ »\n",
       "q_5: ─░─────────────────┤1             ├┤              ├┤  Onsite θ[4] ├─░─»\n",
       "      ░                 └──────────────┘│              ││              │ ░ »\n",
       "q_6: ─░─────────────────────────────────┤1             ├┤              ├─░─»\n",
       "      ░                                 └──────────────┘│              │ ░ »\n",
       "q_7: ─░─────────────────────────────────────────────────┤1             ├─░─»\n",
       "      ░                                                 └──────────────┘ ░ »\n",
       "«     ┌─────┐┌───┐                           ┌───┐┌───┐┌───┐     »\n",
       "«q_0: ┤ Sdg ├┤ H ├──■─────────────────────■──┤ H ├┤ S ├┤ H ├──■──»\n",
       "«     ├─────┤├───┤┌─┴─┐┌───────────────┐┌─┴─┐├───┤├───┤├───┤┌─┴─┐»\n",
       "«q_1: ┤ Sdg ├┤ H ├┤ X ├┤ Rz(0.0022808) ├┤ X ├┤ H ├┤ S ├┤ H ├┤ X ├»\n",
       "«     ├─────┤├───┤└───┘└───────────────┘└───┘├───┤├───┤├───┤└───┘»\n",
       "«q_2: ┤ Sdg ├┤ H ├──■─────────────────────■──┤ H ├┤ S ├┤ H ├──■──»\n",
       "«     ├─────┤├───┤┌─┴─┐ ┌──────────────┐┌─┴─┐├───┤├───┤├───┤┌─┴─┐»\n",
       "«q_3: ┤ Sdg ├┤ H ├┤ X ├─┤ Rz(0.002403) ├┤ X ├┤ H ├┤ S ├┤ H ├┤ X ├»\n",
       "«     ├─────┤├───┤└───┘ └──────────────┘└───┘├───┤├───┤├───┤└───┘»\n",
       "«q_4: ┤ Sdg ├┤ H ├──■─────────────────────■──┤ H ├┤ S ├┤ H ├──■──»\n",
       "«     ├─────┤├───┤┌─┴─┐┌───────────────┐┌─┴─┐├───┤├───┤├───┤┌─┴─┐»\n",
       "«q_5: ┤ Sdg ├┤ H ├┤ X ├┤ Rz(5.121e-05) ├┤ X ├┤ H ├┤ S ├┤ H ├┤ X ├»\n",
       "«     ├─────┤├───┤└───┘└───────────────┘└───┘├───┤├───┤├───┤└───┘»\n",
       "«q_6: ┤ Sdg ├┤ H ├──■─────────────────────■──┤ H ├┤ S ├┤ H ├──■──»\n",
       "«     ├─────┤├───┤┌─┴─┐┌───────────────┐┌─┴─┐├───┤├───┤├───┤┌─┴─┐»\n",
       "«q_7: ┤ Sdg ├┤ H ├┤ X ├┤ Rz(0.0042925) ├┤ X ├┤ H ├┤ S ├┤ H ├┤ X ├»\n",
       "«     └─────┘└───┘└───┘└───────────────┘└───┘└───┘└───┘└───┘└───┘»\n",
       "«                           ┌───┐ ░ \n",
       "«q_0: ───────────────────■──┤ H ├─░─\n",
       "«     ┌───────────────┐┌─┴─┐├───┤ ░ \n",
       "«q_1: ┤ Rz(0.0022808) ├┤ X ├┤ H ├─░─\n",
       "«     └───────────────┘└───┘├───┤ ░ \n",
       "«q_2: ───────────────────■──┤ H ├─░─\n",
       "«      ┌──────────────┐┌─┴─┐├───┤ ░ \n",
       "«q_3: ─┤ Rz(0.002403) ├┤ X ├┤ H ├─░─\n",
       "«      └──────────────┘└───┘├───┤ ░ \n",
       "«q_4: ───────────────────■──┤ H ├─░─\n",
       "«     ┌───────────────┐┌─┴─┐├───┤ ░ \n",
       "«q_5: ┤ Rz(5.121e-05) ├┤ X ├┤ H ├─░─\n",
       "«     └───────────────┘└───┘├───┤ ░ \n",
       "«q_6: ───────────────────■──┤ H ├─░─\n",
       "«     ┌───────────────┐┌─┴─┐├───┤ ░ \n",
       "«q_7: ┤ Rz(0.0042925) ├┤ X ├┤ H ├─░─\n",
       "«     └───────────────┘└───┘└───┘ ░ </pre>"
      ],
      "text/plain": [
       "      ░ ┌──────────────┐                                                 ░ »\n",
       "q_0: ─░─┤0             ├─────────────────────────────────────────────────░─»\n",
       "      ░ │              │┌──────────────┐                                 ░ »\n",
       "q_1: ─░─┤              ├┤0             ├─────────────────────────────────░─»\n",
       "      ░ │              ││              │┌──────────────┐                 ░ »\n",
       "q_2: ─░─┤  Onsite θ[1] ├┤              ├┤0             ├─────────────────░─»\n",
       "      ░ │              ││              ││              │┌──────────────┐ ░ »\n",
       "q_3: ─░─┤              ├┤  Onsite θ[2] ├┤              ├┤0             ├─░─»\n",
       "      ░ │              ││              ││              ││              │ ░ »\n",
       "q_4: ─░─┤1             ├┤              ├┤  Onsite θ[3] ├┤              ├─░─»\n",
       "      ░ └──────────────┘│              ││              ││              │ ░ »\n",
       "q_5: ─░─────────────────┤1             ├┤              ├┤  Onsite θ[4] ├─░─»\n",
       "      ░                 └──────────────┘│              ││              │ ░ »\n",
       "q_6: ─░─────────────────────────────────┤1             ├┤              ├─░─»\n",
       "      ░                                 └──────────────┘│              │ ░ »\n",
       "q_7: ─░─────────────────────────────────────────────────┤1             ├─░─»\n",
       "      ░                                                 └──────────────┘ ░ »\n",
       "«     ┌─────┐┌───┐                           ┌───┐┌───┐┌───┐     »\n",
       "«q_0: ┤ Sdg ├┤ H ├──■─────────────────────■──┤ H ├┤ S ├┤ H ├──■──»\n",
       "«     ├─────┤├───┤┌─┴─┐┌───────────────┐┌─┴─┐├───┤├───┤├───┤┌─┴─┐»\n",
       "«q_1: ┤ Sdg ├┤ H ├┤ X ├┤ Rz(0.0022808) ├┤ X ├┤ H ├┤ S ├┤ H ├┤ X ├»\n",
       "«     ├─────┤├───┤└───┘└───────────────┘└───┘├───┤├───┤├───┤└───┘»\n",
       "«q_2: ┤ Sdg ├┤ H ├──■─────────────────────■──┤ H ├┤ S ├┤ H ├──■──»\n",
       "«     ├─────┤├───┤┌─┴─┐ ┌──────────────┐┌─┴─┐├───┤├───┤├───┤┌─┴─┐»\n",
       "«q_3: ┤ Sdg ├┤ H ├┤ X ├─┤ Rz(0.002403) ├┤ X ├┤ H ├┤ S ├┤ H ├┤ X ├»\n",
       "«     ├─────┤├───┤└───┘ └──────────────┘└───┘├───┤├───┤├───┤└───┘»\n",
       "«q_4: ┤ Sdg ├┤ H ├──■─────────────────────■──┤ H ├┤ S ├┤ H ├──■──»\n",
       "«     ├─────┤├───┤┌─┴─┐┌───────────────┐┌─┴─┐├───┤├───┤├───┤┌─┴─┐»\n",
       "«q_5: ┤ Sdg ├┤ H ├┤ X ├┤ Rz(5.121e-05) ├┤ X ├┤ H ├┤ S ├┤ H ├┤ X ├»\n",
       "«     ├─────┤├───┤└───┘└───────────────┘└───┘├───┤├───┤├───┤└───┘»\n",
       "«q_6: ┤ Sdg ├┤ H ├──■─────────────────────■──┤ H ├┤ S ├┤ H ├──■──»\n",
       "«     ├─────┤├───┤┌─┴─┐┌───────────────┐┌─┴─┐├───┤├───┤├───┤┌─┴─┐»\n",
       "«q_7: ┤ Sdg ├┤ H ├┤ X ├┤ Rz(0.0042925) ├┤ X ├┤ H ├┤ S ├┤ H ├┤ X ├»\n",
       "«     └─────┘└───┘└───┘└───────────────┘└───┘└───┘└───┘└───┘└───┘»\n",
       "«                           ┌───┐ ░ \n",
       "«q_0: ───────────────────■──┤ H ├─░─\n",
       "«     ┌───────────────┐┌─┴─┐├───┤ ░ \n",
       "«q_1: ┤ Rz(0.0022808) ├┤ X ├┤ H ├─░─\n",
       "«     └───────────────┘└───┘├───┤ ░ \n",
       "«q_2: ───────────────────■──┤ H ├─░─\n",
       "«      ┌──────────────┐┌─┴─┐├───┤ ░ \n",
       "«q_3: ─┤ Rz(0.002403) ├┤ X ├┤ H ├─░─\n",
       "«      └──────────────┘└───┘├───┤ ░ \n",
       "«q_4: ───────────────────■──┤ H ├─░─\n",
       "«     ┌───────────────┐┌─┴─┐├───┤ ░ \n",
       "«q_5: ┤ Rz(5.121e-05) ├┤ X ├┤ H ├─░─\n",
       "«     └───────────────┘└───┘├───┤ ░ \n",
       "«q_6: ───────────────────■──┤ H ├─░─\n",
       "«     ┌───────────────┐┌─┴─┐├───┤ ░ \n",
       "«q_7: ┤ Rz(0.0042925) ├┤ X ├┤ H ├─░─\n",
       "«     └───────────────┘└───┘└───┘ ░ "
      ]
     },
     "execution_count": 3,
     "metadata": {},
     "output_type": "execute_result"
    }
   ],
   "source": [
    "qiskit_gates(barrier=True).draw()"
   ]
  },
  {
   "cell_type": "code",
   "execution_count": 4,
   "id": "75613ce3",
   "metadata": {},
   "outputs": [],
   "source": [
    "def quri_gates(n_sites, trotter_steps, params, option, t=1.0, delta_t=1.0, U=3.0):\n",
    "    n_qubits = 2*n_sites\n",
    "    if option == 1:\n",
    "        circuit = UnboundParametricQuantumCircuit(n_qubits)\n",
    "    elif option == 2:\n",
    "        circuit = QuantumCircuit(n_qubits)\n",
    "    theta = t * delta_t / 2\n",
    "    phi = 1j * U * delta_t\n",
    "    index = 0\n",
    "    \n",
    "    sqrt_iS = np.array([[1, 0, 0, 0],\n",
    "                        [0, 1/np.sqrt(2), 1j/np.sqrt(2), 0],\n",
    "                        [0, 1j/np.sqrt(2), 1/np.sqrt(2), 0],\n",
    "                        [0, 0, 0, 1]])\n",
    "        \n",
    "    def XX_gate(parameter, i, j):\n",
    "        circuit.add_H_gate(i)\n",
    "        circuit.add_H_gate(j)\n",
    "        circuit.add_CNOT_gate(i, j)\n",
    "        if option == 1:\n",
    "            circuit.add_ParametricRZ_gate(j)\n",
    "        elif option == 2:\n",
    "            circuit.add_RZ_gate(index=j, angle=theta*parameter) \n",
    "        circuit.add_CNOT_gate(i, j)\n",
    "        circuit.add_H_gate(i)\n",
    "        circuit.add_H_gate(j)\n",
    "\n",
    "    def YY_gate(parameter, i, j):\n",
    "        circuit.add_Sdag_gate(i)\n",
    "        circuit.add_Sdag_gate(j)\n",
    "        circuit.add_H_gate(i)\n",
    "        circuit.add_H_gate(j)\n",
    "        circuit.add_CNOT_gate(i, j)\n",
    "        if option == 1:\n",
    "            circuit.add_ParametricRZ_gate(j)\n",
    "        elif option == 2:\n",
    "            circuit.add_RZ_gate(index=j, angle=theta*parameter) \n",
    "        circuit.add_CNOT_gate(i, j)\n",
    "        circuit.add_H_gate(i)\n",
    "        circuit.add_H_gate(j)\n",
    "        circuit.add_S_gate(i)\n",
    "        circuit.add_S_gate(j)\n",
    "\n",
    "    '''\n",
    "    def on_site_gate(i, j):\n",
    "        circuit.add_ParametricRZ_gate(i)\n",
    "        circuit.add_ParametricRZ_gate(j)\n",
    "        circuit.add_ParametricRX_gate(i) \n",
    "        circuit.add_RX_gate(index=j, angle=-np.pi/2) \n",
    "        circuit.add_Z_gate(i)\n",
    "        circuit.add_UnitaryMatrix_gate([i,j], sqrt_iS)\n",
    "        circuit.add_Z_gate(i)\n",
    "        circuit.add_ParametricRX_gate(j)\n",
    "        circuit.add_UnitaryMatrix_gate([i,j], sqrt_iS)\n",
    "        circuit.add_ParametricRX_gate(i)\n",
    "        circuit.add_RX_gate(index=j, angle=np.pi/2)\n",
    "    '''\n",
    "    \n",
    "    def onsite_gate(parameter, i, j):\n",
    "        unitary_matrix = np.array([[1, 0, 0, 0],\n",
    "                                   [0, 1, 0, 0],\n",
    "                                   [0, 0, 1, 0],\n",
    "                                   [0, 0, 0, np.exp(phi*parameter)]])\n",
    "        circuit.add_UnitaryMatrix_gate([i, j], unitary_matrix)\n",
    "    \n",
    "    def hopping_gate(parameter, i, j):\n",
    "        if option == 1:\n",
    "            YY_gate(parameter, i, j)\n",
    "            XX_gate(parameter, i, j)\n",
    "        elif option == 2:\n",
    "            unitary_matrix = np.array([[1, 0, 0, 0],\n",
    "                                       [0, np.cos(parameter/2), -1j*np.sin(parameter/2), 0],\n",
    "                                       [0, -1j*np.sin(parameter/2), np.cos(parameter/2), 0],\n",
    "                                       [0, 0, 0, 1]])\n",
    "            circuit.add_UnitaryMatrix_gate([i, j], unitary_matrix)\n",
    "               \n",
    "    for _ in range(trotter_steps):\n",
    "        \n",
    "        for i in range(n_sites):\n",
    "            #on_site_gate(i, i + n_sites)\n",
    "            onsite_gate(params[index], i, i + n_sites)\n",
    "            index+=1\n",
    "            \n",
    "        for i in range(0, n_qubits, 2):\n",
    "            hopping_gate(params[index], i, i + 1)\n",
    "            index+=1\n",
    "    \n",
    "    return circuit"
   ]
  },
  {
   "cell_type": "markdown",
   "id": "87716dd3",
   "metadata": {},
   "source": [
    "# Gradient-free: rotosolve optimizer"
   ]
  },
  {
   "cell_type": "markdown",
   "id": "29a6ad7a",
   "metadata": {},
   "source": [
    "Closed-form expression for the optimal angle $\\theta^*_d$ of the $d$-th parameter:\n",
    "\n",
    "\\begin{align}\n",
    "\\theta^*_d = argmin_{\\theta_d} \\langle H \\rangle_{\\theta_d} = \\phi-\\frac{\\pi}{2}-arctan2 \\left( \\frac{2 \\langle H \\rangle_{\\phi}-\\langle H \\rangle_{\\phi+\\pi/2}-\\langle H \\rangle_{\\phi-\\pi/2}}{\\langle H \\rangle_{\\phi+\\pi/2}-\\langle H \\rangle_{\\phi-\\pi/2}} \\right) + 2\\pi k,\n",
    "\\end{align}\n",
    "\n",
    "for $\\theta_d \\in (-\\pi, \\pi)$, $\\phi \\in \\mathbb{R}$, and integer $k$. \n",
    "\n",
    "Where $\\langle H \\rangle_{\\theta_d}$ denotes the expected value of the Hamiltonian calculated by fixing all parameters with exception of ${\\theta_d}$. This serves as the objective (cost) function for the VQE workload. \n",
    "\n",
    "Particularly, for $\\phi=0$ and $k=0$, one obtains:\n",
    "\n",
    "\\begin{align}\n",
    "\\theta^*_d = argmin_{\\theta_d} \\langle H \\rangle_{\\theta_d} = -\\frac{\\pi}{2}-arctan2 \\left( \\frac{2 \\langle H \\rangle_{\\theta_d=0}-\\langle H \\rangle_{\\theta_d=\\pi/2}-\\langle H \\rangle_{\\theta_d=-\\pi/2}}{\\langle H \\rangle_{\\theta_d=\\pi/2}-\\langle H \\rangle_{\\theta_d=-\\pi/2}} \\right).\n",
    "\\end{align}"
   ]
  },
  {
   "cell_type": "code",
   "execution_count": 5,
   "id": "2aa139d2",
   "metadata": {},
   "outputs": [],
   "source": [
    "import sys\n",
    "from typing import Any\n",
    "\n",
    "sys.path.append(\"../\")\n",
    "from utils.challenge_2023 import ChallengeSampling\n",
    "\n",
    "challenge_sampling = ChallengeSampling(noise=True)\n",
    "\n",
    "\"\"\"\n",
    "####################################\n",
    "add codes here\n",
    "####################################\n",
    "\"\"\"\n",
    "\n",
    "import time\n",
    "import numpy as np\n",
    "from openfermion.transforms import jordan_wigner\n",
    "from openfermion.utils import load_operator\n",
    "from quri_parts.algo.optimizer import Adam, OptimizerStatus\n",
    "from quri_parts.core.estimator.gradient import parameter_shift_gradient_estimates\n",
    "from quri_parts.core.measurement import bitwise_commuting_pauli_measurement\n",
    "from quri_parts.core.sampling.shots_allocator import (\n",
    "    create_equipartition_shots_allocator,\n",
    ")\n",
    "from quri_parts.core.state import ParametricCircuitQuantumState, ComputationalBasisState\n",
    "from quri_parts.openfermion.operator import operator_from_openfermion_op\n",
    "from utils.challenge_2023 import TimeExceededError\n",
    "from quri_parts.circuit.circuit_parametric import UnboundParametricQuantumCircuit\n",
    "from quri_parts.circuit import LinearMappedUnboundParametricQuantumCircuit\n",
    "from quri_parts.circuit import QuantumCircuit\n",
    "from qiskit import QuantumCircuit as QuantumCircuitQiskit\n",
    "from qiskit.quantum_info import Operator\n",
    "from quri_parts.qiskit.circuit import circuit_from_qiskit\n",
    "\n",
    "def cost_fn(hamiltonian, parametric_state, param_values, estimator):\n",
    "    estimate = estimator(hamiltonian, parametric_state, [param_values])\n",
    "    return estimate[0].value.real\n",
    "\n",
    "def rotosolve(cost, params):\n",
    "    '''\n",
    "    This function defines the rotosolve optimizer.\n",
    "    \n",
    "    Credits: https://pennylane.ai/qml/demos/tutorial_rotoselect\n",
    "    '''\n",
    "    phi, k = 0, 0\n",
    "    for d in range(len(params)):\n",
    "        params[d] = phi\n",
    "        M_0 = cost(params)\n",
    "        params[d] = phi + np.pi / 2.0\n",
    "        M_0_plus = cost(params)\n",
    "        params[d] = phi - np.pi / 2.0\n",
    "        M_0_minus = cost(params)\n",
    "        a = np.arctan2(2.0 * M_0 - M_0_plus - M_0_minus, M_0_plus - M_0_minus)  \n",
    "        params[d] = phi - np.pi / 2.0 - a + 2*np.pi*k\n",
    "        if params[d] <= -np.pi:\n",
    "            params[d] += 2 * np.pi\n",
    "    return params  \n",
    "\n",
    "def vqe(hamiltonian, parametric_state, estimator, params, optimizer):\n",
    "    energies = []\n",
    "    print('Computing VQE...\\n')\n",
    "    \n",
    "    def c_fn(params):\n",
    "        return cost_fn(hamiltonian, parametric_state, params, estimator)\n",
    "    \n",
    "    #iteration = 0\n",
    "    for iteration in range(1, 50+1, 1):\n",
    "    #while True:\n",
    "        try:\n",
    "            start_time = time.time()\n",
    "            params = optimizer(c_fn, params)\n",
    "            _energy = c_fn(params)\n",
    "            print(f\"iteration {iteration}\")\n",
    "            print(_energy)\n",
    "            end_time = time.time()\n",
    "            execution_time = end_time - start_time\n",
    "            print(\"Execution Time:\", execution_time, \"seconds\")\n",
    "            energies.append(_energy)\n",
    "            #iteration+=1\n",
    "        except TimeExceededError as e:\n",
    "            print(str(e))\n",
    "            return _energy, iteration, energies\n",
    "    \n",
    "    return _energy, iteration, energies\n",
    "\n",
    "class RunAlgorithm:\n",
    "    def __init__(self) -> None:\n",
    "        challenge_sampling.reset()\n",
    "\n",
    "    def result_for_evaluation(self) -> tuple[Any, float]:\n",
    "        energy_final = self.get_result()\n",
    "        qc_time_final = challenge_sampling.total_quantum_circuit_time\n",
    "\n",
    "        return energy_final, qc_time_final\n",
    "\n",
    "    def get_result(self) -> float:\n",
    "        \"\"\"\n",
    "        ####################################\n",
    "        add codes here\n",
    "        ####################################\n",
    "        \"\"\"\n",
    "        n_sites, trotter_steps = 4, 1\n",
    "        n_qubits = 2*n_sites\n",
    "        ham = load_operator(\n",
    "            file_name=f\"{n_qubits}_qubits_H\",\n",
    "            data_directory=\"./hamiltonian\",\n",
    "            plain_text=False,\n",
    "        )\n",
    "        # Jordan-Wigner Transformation:\n",
    "        jw_hamiltonian = jordan_wigner(ham)\n",
    "        # Spin qubit-equivalent Hamiltonian:\n",
    "        hamiltonian = operator_from_openfermion_op(jw_hamiltonian)\n",
    "        \n",
    "        # Parameter Initialization:\n",
    "        total_no_of_gates = int(n_sites + (n_qubits) // 2) #+ 4*(n_sites-1))\n",
    "        init_params = np.random.rand(trotter_steps * total_no_of_gates)*2*np.pi*0.001\n",
    "        \n",
    "        ##### Circuit Ansatz: #####\n",
    "        \n",
    "        hf_gates = ComputationalBasisState(n_qubits, bits=0b00001111).circuit.gates\n",
    "        # Option1 - Quri & UnboundParametricQuantumCircuit\n",
    "        #hf_circuit = quri_gates(n_sites, trotter_steps, init_params, option = 1)\n",
    "        #hf_circuit.combine(hf_gates)\n",
    "        \n",
    "        # Option2 - Quri & LinearMappedUnbound...\n",
    "        #hf_circuit = LinearMappedUnboundParametricQuantumCircuit(n_qubits).combine(hf_gates)\n",
    "        #hw_ansatz = quri_gates(n_sites, trotter_steps, init_params, option=2)\n",
    "        #hf_circuit.combine(hw_ansatz)\n",
    "        \n",
    "        # Option3 - Qiskit & LinearMappedUnbound...\n",
    "        hf_circuit = LinearMappedUnboundParametricQuantumCircuit(n_qubits).combine(hf_gates)\n",
    "        hw_ansatz = qiskit_gates(n_sites, trotter_steps, init_params)\n",
    "        hf_circuit.combine(circuit_from_qiskit(qiskit_circuit = hw_ansatz).gates)\n",
    "        \n",
    "        ##### Circuit Ansatz: #####\n",
    "        \n",
    "        # Parametric state:\n",
    "        parametric_state = ParametricCircuitQuantumState(n_qubits, hf_circuit)\n",
    "\n",
    "        hardware_type = \"sc\"\n",
    "        shots_allocator = create_equipartition_shots_allocator()\n",
    "        measurement_factory = bitwise_commuting_pauli_measurement\n",
    "        n_shots = 10**3\n",
    "        \n",
    "        # Sampling estimator to estimate the expectation value of the Hamiltonian operator:\n",
    "        sampling_estimator = (\n",
    "            challenge_sampling.create_concurrent_parametric_sampling_estimator(\n",
    "                n_shots, measurement_factory, shots_allocator, hardware_type\n",
    "            )\n",
    "        ) \n",
    "        # VQE Simulation:\n",
    "        energy_final, iteration, energies = vqe(\n",
    "            hamiltonian,\n",
    "            parametric_state,\n",
    "            sampling_estimator,\n",
    "            init_params,\n",
    "            rotosolve,\n",
    "        )\n",
    "        print(f\"iteration used: {iteration}\")\n",
    "        return energy_final, iteration, energies"
   ]
  },
  {
   "cell_type": "markdown",
   "id": "13289ad5",
   "metadata": {},
   "source": [
    "For trotter_steps = 1:"
   ]
  },
  {
   "cell_type": "code",
   "execution_count": 6,
   "id": "83eb608f",
   "metadata": {
    "scrolled": true
   },
   "outputs": [
    {
     "name": "stdout",
     "output_type": "stream",
     "text": [
      "Computing VQE...\n",
      "\n",
      "iteration 1\n",
      "-5.904311830338835\n",
      "Execution Time: 54.17079496383667 seconds\n",
      "iteration 2\n",
      "-6.333471140363384\n",
      "Execution Time: 52.42549538612366 seconds\n",
      "iteration 3\n",
      "-9.467749070244967\n",
      "Execution Time: 52.02091979980469 seconds\n",
      "iteration 4\n",
      "-7.66434464102444\n",
      "Execution Time: 54.689064502716064 seconds\n",
      "iteration 5\n",
      "-6.902395886937505\n",
      "Execution Time: 50.97930455207825 seconds\n",
      "iteration 6\n",
      "-8.098740446521596\n",
      "Execution Time: 49.976943016052246 seconds\n",
      "iteration 7\n",
      "-8.240036093158214\n",
      "Execution Time: 50.28691530227661 seconds\n",
      "iteration 8\n",
      "-6.772222395993996\n",
      "Execution Time: 50.31736207008362 seconds\n",
      "iteration 9\n",
      "-7.179614572058056\n",
      "Execution Time: 50.23735046386719 seconds\n",
      "iteration 10\n",
      "-6.591609561327156\n",
      "Execution Time: 50.51126503944397 seconds\n",
      "iteration 11\n",
      "-6.71142318905773\n",
      "Execution Time: 50.206082820892334 seconds\n",
      "iteration 12\n",
      "-6.611405015970602\n",
      "Execution Time: 50.19075632095337 seconds\n",
      "iteration 13\n",
      "-6.964307159473359\n",
      "Execution Time: 50.176616191864014 seconds\n",
      "iteration 14\n",
      "-6.728062182816944\n",
      "Execution Time: 50.43537449836731 seconds\n",
      "iteration 15\n",
      "-7.542527190557273\n",
      "Execution Time: 50.45029973983765 seconds\n",
      "iteration 16\n",
      "-7.1255810387487495\n",
      "Execution Time: 49.84261202812195 seconds\n",
      "iteration 17\n",
      "-5.268817999150266\n",
      "Execution Time: 49.98977875709534 seconds\n",
      "iteration 18\n",
      "-5.9592437638720845\n",
      "Execution Time: 50.1517493724823 seconds\n",
      "iteration 19\n",
      "-8.580976784823141\n",
      "Execution Time: 50.12324357032776 seconds\n",
      "iteration 20\n",
      "-7.429090234676146\n",
      "Execution Time: 50.47931694984436 seconds\n",
      "iteration 21\n",
      "-6.602617590834997\n",
      "Execution Time: 50.22892618179321 seconds\n",
      "iteration 22\n",
      "-8.420882437450338\n",
      "Execution Time: 50.18611931800842 seconds\n",
      "iteration 23\n",
      "-5.042763062912806\n",
      "Execution Time: 50.143736362457275 seconds\n",
      "iteration 24\n",
      "-8.534894288325741\n",
      "Execution Time: 50.090763568878174 seconds\n",
      "iteration 25\n",
      "-7.528814465849695\n",
      "Execution Time: 50.24221134185791 seconds\n",
      "iteration 26\n",
      "-5.2411565837291825\n",
      "Execution Time: 50.4200541973114 seconds\n",
      "iteration 27\n",
      "-7.567473960678776\n",
      "Execution Time: 50.18121886253357 seconds\n",
      "iteration 28\n",
      "-7.599467182427153\n",
      "Execution Time: 50.29526448249817 seconds\n",
      "iteration 29\n",
      "-6.989257878909342\n",
      "Execution Time: 49.90903830528259 seconds\n",
      "iteration 30\n",
      "-5.413744394334386\n",
      "Execution Time: 50.339330196380615 seconds\n",
      "iteration 31\n",
      "-7.253373329751514\n",
      "Execution Time: 50.09138298034668 seconds\n",
      "iteration 32\n",
      "-7.965955611857627\n",
      "Execution Time: 50.30653929710388 seconds\n",
      "iteration 33\n",
      "-5.495064970257752\n",
      "Execution Time: 50.18258786201477 seconds\n",
      "iteration 34\n",
      "-4.949522300989828\n",
      "Execution Time: 50.13042426109314 seconds\n",
      "iteration 35\n",
      "-7.326484012191679\n",
      "Execution Time: 50.020413875579834 seconds\n",
      "iteration 36\n",
      "-7.101745598414407\n",
      "Execution Time: 50.25409960746765 seconds\n",
      "iteration 37\n",
      "-9.25061805948893\n",
      "Execution Time: 50.09729266166687 seconds\n",
      "iteration 38\n",
      "-6.561145875480436\n",
      "Execution Time: 50.361196517944336 seconds\n",
      "iteration 39\n",
      "-7.28960064009724\n",
      "Execution Time: 50.13404583930969 seconds\n",
      "iteration 40\n",
      "-8.644013030327724\n",
      "Execution Time: 49.83861255645752 seconds\n",
      "iteration 41\n",
      "-7.211768659064799\n",
      "Execution Time: 49.81127190589905 seconds\n",
      "iteration 42\n",
      "-5.743868730185517\n",
      "Execution Time: 50.40208840370178 seconds\n",
      "iteration 43\n",
      "-7.382154401148489\n",
      "Execution Time: 50.37213182449341 seconds\n",
      "iteration 44\n",
      "-7.678927754739909\n",
      "Execution Time: 50.1336829662323 seconds\n",
      "iteration 45\n",
      "-6.360040043823306\n",
      "Execution Time: 50.49717926979065 seconds\n",
      "iteration 46\n",
      "-8.643391873270335\n",
      "Execution Time: 50.23136281967163 seconds\n",
      "iteration 47\n",
      "-7.615839483831846\n",
      "Execution Time: 50.02483510971069 seconds\n",
      "iteration 48\n",
      "-6.098746928959739\n",
      "Execution Time: 50.550984144210815 seconds\n",
      "iteration 49\n",
      "-7.529969555944848\n",
      "Execution Time: 50.23367404937744 seconds\n",
      "iteration 50\n",
      "-7.515466538322655\n",
      "Execution Time: 50.17206573486328 seconds\n",
      "iteration used: 50\n"
     ]
    }
   ],
   "source": [
    "if __name__ == \"__main__\":\n",
    "    run_algorithm = RunAlgorithm()\n",
    "    _, iteration, energies = run_algorithm.get_result()"
   ]
  },
  {
   "cell_type": "code",
   "execution_count": 7,
   "id": "f908cdf7",
   "metadata": {},
   "outputs": [
    {
     "data": {
      "image/png": "[encoded data removed]",
      "text/plain": [
       "<Figure size 1000x600 with 1 Axes>"
      ]
     },
     "metadata": {},
     "output_type": "display_data"
    }
   ],
   "source": [
    "plot(-8.42442890089805, iteration, energies)"
   ]
  },
  {
   "cell_type": "markdown",
   "id": "dc5e510e",
   "metadata": {},
   "source": [
    "# Gradient-based: adam optimizer"
   ]
  },
  {
   "cell_type": "code",
   "execution_count": 13,
   "id": "9b7676a4",
   "metadata": {},
   "outputs": [
    {
     "name": "stdout",
     "output_type": "stream",
     "text": [
      "Computing VQE...\n",
      "\n",
      "iteration 1\n",
      "-0.22978764583487418\n",
      "Execution Time: 526.6041185855865 seconds\n",
      "iteration 2\n",
      "-0.779546518614457\n",
      "Execution Time: 453.31823778152466 seconds\n",
      "iteration 3\n",
      "-0.6337379387193679\n",
      "Execution Time: 459.19526290893555 seconds\n",
      "iteration 4\n",
      "-1.024144328374508\n",
      "Execution Time: 458.46987795829773 seconds\n",
      "iteration 5\n",
      "-0.23895864315787693\n",
      "Execution Time: 455.9041657447815 seconds\n",
      "iteration 6\n",
      "0.08005998449711377\n",
      "Execution Time: 456.63580083847046 seconds\n",
      "iteration 7\n",
      "0.6310943498780025\n",
      "Execution Time: 457.62385654449463 seconds\n",
      "Reached maximum quantum circuit time 1000. Quantum circuit time 1002.513599999996\n",
      "iteration used: 7\n"
     ]
    }
   ],
   "source": [
    "import sys\n",
    "from typing import Any\n",
    "\n",
    "sys.path.append(\"../\")\n",
    "from utils.challenge_2023 import ChallengeSampling\n",
    "\n",
    "challenge_sampling = ChallengeSampling(noise=True)\n",
    "\n",
    "\"\"\"\n",
    "####################################\n",
    "add codes here\n",
    "####################################\n",
    "\"\"\"\n",
    "\n",
    "import time\n",
    "import numpy as np\n",
    "from openfermion.transforms import jordan_wigner\n",
    "from openfermion.utils import load_operator\n",
    "from quri_parts.algo.optimizer import Adam, OptimizerStatus\n",
    "from quri_parts.core.estimator.gradient import parameter_shift_gradient_estimates\n",
    "from quri_parts.core.measurement import bitwise_commuting_pauli_measurement\n",
    "from quri_parts.core.sampling.shots_allocator import (\n",
    "    create_equipartition_shots_allocator,\n",
    ")\n",
    "from quri_parts.core.state import ParametricCircuitQuantumState, ComputationalBasisState\n",
    "from quri_parts.openfermion.operator import operator_from_openfermion_op\n",
    "from utils.challenge_2023 import TimeExceededError\n",
    "from quri_parts.circuit.circuit_parametric import UnboundParametricQuantumCircuit\n",
    "\n",
    "def cost_fn(hamiltonian, parametric_state, param_values, estimator):\n",
    "    estimate = estimator(hamiltonian, parametric_state, [param_values])\n",
    "    return estimate[0].value.real\n",
    "\n",
    "def vqe(hamiltonian, parametric_state, estimator, init_params, optimizer):\n",
    "    energies = []\n",
    "    print('Computing VQE...\\n')\n",
    "    opt_state = optimizer.get_init_state(init_params)\n",
    "\n",
    "    def c_fn(param_values):\n",
    "        return cost_fn(hamiltonian, parametric_state, param_values, estimator)\n",
    "\n",
    "    def g_fn(param_values):\n",
    "        grad = parameter_shift_gradient_estimates(\n",
    "            hamiltonian, parametric_state, param_values, estimator\n",
    "        )\n",
    "        return np.asarray([i.real for i in grad.values])\n",
    "\n",
    "    for _ in range(50):\n",
    "    #while True:\n",
    "        try:\n",
    "            start_time = time.time()\n",
    "            opt_state = optimizer.step(opt_state, c_fn, g_fn)\n",
    "            print(f\"iteration {opt_state.niter}\")\n",
    "            _energy = opt_state.cost\n",
    "            print(_energy)\n",
    "            end_time = time.time()\n",
    "            execution_time = end_time - start_time\n",
    "            print(\"Execution Time:\", execution_time, \"seconds\")\n",
    "            energies.append(_energy)\n",
    "        except TimeExceededError as e:\n",
    "            print(str(e))\n",
    "            return opt_state, energies\n",
    "\n",
    "        if opt_state.status == OptimizerStatus.FAILED:\n",
    "            print(\"Optimizer failed\")\n",
    "            break\n",
    "        if opt_state.status == OptimizerStatus.CONVERGED:\n",
    "            print(\"Optimizer converged\")\n",
    "            break\n",
    "    return opt_state, energies\n",
    "\n",
    "class RunAlgorithm:\n",
    "    def __init__(self) -> None:\n",
    "        challenge_sampling.reset()\n",
    "\n",
    "    def result_for_evaluation(self) -> tuple[Any, float]:\n",
    "        energy_final = self.get_result()\n",
    "        qc_time_final = challenge_sampling.total_quantum_circuit_time\n",
    "\n",
    "        return energy_final, qc_time_final\n",
    "\n",
    "    def get_result(self) -> float:\n",
    "        \"\"\"\n",
    "        ####################################\n",
    "        add codes here\n",
    "        ####################################\n",
    "        \"\"\"\n",
    "        n_site, trotter_steps = 4, 1\n",
    "        n_qubits = 2 * n_site\n",
    "        ham = load_operator(\n",
    "            file_name=f\"{n_qubits}_qubits_H\",\n",
    "            data_directory=\"./hamiltonian\",\n",
    "            plain_text=False,\n",
    "        )\n",
    "        jw_hamiltonian = jordan_wigner(ham)\n",
    "        hamiltonian = operator_from_openfermion_op(jw_hamiltonian)\n",
    "\n",
    "        # Parameter Initialization:\n",
    "        init_param = np.random.rand(trotter_steps * (n_site + n_qubits // 2))*2*np.pi*0.001\n",
    "        \n",
    "        ##### Circuit Ansatz: #####    \n",
    "        hf_gates = ComputationalBasisState(n_qubits, bits=0b00001111).circuit.gates\n",
    "        hf_circuit = quri_gates(n_site, trotter_steps, init_param, option = 1)\n",
    "        hf_circuit.combine(hf_gates)        \n",
    "        ##### Circuit Ansatz: #####\n",
    "\n",
    "        parametric_state = ParametricCircuitQuantumState(n_qubits, hf_circuit)\n",
    "\n",
    "        hardware_type = \"it\"\n",
    "        shots_allocator = create_equipartition_shots_allocator()\n",
    "        measurement_factory = bitwise_commuting_pauli_measurement\n",
    "        n_shots = 10**3\n",
    "\n",
    "        sampling_estimator = (\n",
    "            challenge_sampling.create_concurrent_parametric_sampling_estimator(\n",
    "                n_shots, measurement_factory, shots_allocator, hardware_type\n",
    "            )\n",
    "        )\n",
    "\n",
    "        adam_optimizer = Adam(ftol=10e-5)\n",
    "\n",
    "        result, energies = vqe(\n",
    "            hamiltonian,\n",
    "            parametric_state,\n",
    "            sampling_estimator,\n",
    "            init_param,\n",
    "            adam_optimizer,\n",
    "        )\n",
    "        print(f\"iteration used: {result.niter}\")\n",
    "        return result.cost, result.niter, energies\n",
    "\n",
    "'''\n",
    "if __name__ == \"__main__\":\n",
    "    run_algorithm = RunAlgorithm()\n",
    "    print(run_algorithm.get_result())\n",
    "'''\n",
    "if __name__ == \"__main__\":\n",
    "    run_algorithm = RunAlgorithm()\n",
    "    result, iteration, energies = run_algorithm.get_result()"
   ]
  },
  {
   "cell_type": "code",
   "execution_count": 14,
   "id": "e3e2272e",
   "metadata": {},
   "outputs": [
    {
     "data": {
      "image/png": "[encoded data removed]",
      "text/plain": [
       "<Figure size 1000x600 with 1 Axes>"
      ]
     },
     "metadata": {},
     "output_type": "display_data"
    }
   ],
   "source": [
    "plot(-8.42442890089805, iteration, energies)"
   ]
  },
  {
   "cell_type": "markdown",
   "id": "78dbe838",
   "metadata": {},
   "source": [
    "# Appendix"
   ]
  },
  {
   "cell_type": "markdown",
   "id": "c9c38887",
   "metadata": {},
   "source": [
    "Let $A \\in M^{m,m}$ be a $m$x$m$ involutory matrix, such that $A^2=\\mathbb{I}$.\n",
    "\n",
    "Using the Taylor series expansion for the exponential function of a square matrix $A$, given by\n",
    "\n",
    "\\begin{eqnarray}\n",
    "e^{A}=\\sum_{n=0}^{\\infty}\\frac{A^{n}}{n!} = \\mathbb{I} +A+\\frac{A^{2}}{2}+\\frac{A^{3}}{3!}+\\cdots+\\frac{A^{n}}{n!},\n",
    "\\end{eqnarray}\n",
    "\n",
    "one then has\n",
    "\n",
    "\\begin{eqnarray}\n",
    "e^{\\pm i\\theta A} &=& \\mathbb{I} \\pm i\\theta A + \\frac{(i\\theta A)^2}{2!} + \\frac{(\\pm i\\theta A)^3}{3!} + \\frac{(i\\theta A)^4}{4!} +  \\frac{(\\pm i\\theta A)^5}{5!} + \\cdots + \\frac{(\\pm i\\theta A)^n}{n!}\\\\\n",
    "&=& \\mathbb{I} \\pm i\\theta A - \\frac{(\\theta A)^2}{2!} \\pm \\frac{(i\\theta A)^3}{3!} + \\frac{(\\theta A)^{4}}{4!} \\pm \\frac{(i\\theta A)^5}{5!} + \\cdots + \\frac{(\\pm i\\theta A)^n}{n!} \\\\\n",
    "&=& \\mathbb{I} \\pm i\\theta A - \\frac{\\theta^2}{2!} \\mathbb{I} \\pm i \\Bigg(\\frac{-\\theta^3}{3!}\\Bigg) A + \\frac{\\theta^4}{4!} \\mathbb{I} \\pm i \\frac{\\theta^5}{5!}A + \\cdots +\\\\\n",
    "&=&\\left(1-\\frac{\\theta^{2}}{2}+\\frac{\\theta^{4}}{4!}+\\cdots+\\right) \\mathbb{I} \\pm i\\left(\\theta-\\frac{\\theta^{3}}{3!}+\\frac{\\theta^{5}}{5!}+\\cdots+\\right)A\\\\\n",
    "&=& \\cos(\\theta) \\mathbb{I} \\pm i \\sin(\\theta)A.\n",
    "\\end{eqnarray}\n",
    "\n",
    "Q.E.D."
   ]
  },
  {
   "cell_type": "markdown",
   "id": "8375f706",
   "metadata": {},
   "source": [
    "## Operator function"
   ]
  },
  {
   "cell_type": "markdown",
   "id": "808753f6",
   "metadata": {},
   "source": [
    "Given the spectral decomposition theorem, it is possible to write the operator function (matrix function) on a Normal matrix $\\hat{O}$ as follows:\n",
    "\n",
    "$$f(\\hat{O})= \\sum_j f(o_j) |o_j\\rangle \\langle o_j|,$$\n",
    "\n",
    "which is equivalent to (after writing $\\hat{O} = UDU^{\\dagger}$)\n",
    "\n",
    "\\begin{eqnarray}\n",
    "f(\\hat{O}) = Uf(D)U^{\\dagger}.\n",
    "\\end{eqnarray}\n",
    "\n",
    "For the exponential function over the field $\\mathbb{C}^n$ of the complex numbers, this becomes:\n",
    "\n",
    "$$ e^{i\\theta\\hat{O}} = \\sum_{j=1}^n e^{i\\theta o_j} |o_j\\rangle \\langle o_j| = e^{i\\theta o_1} |o_{1}\\rangle \\langle o_{1}| + \\cdots + e^{i\\theta o_n} |o_{n}\\rangle \\langle o_{n}|.$$\n",
    "\n",
    "To see this is true, recall that the eigenvalues of a matrix are multiplied by a scalar when the matrix is multiplied by the same scalar, while the eigenvectors are left unchanged. One can extend this identity to a tensor product of Normal operators noting that `the tensor product of two Hermitian operators is another Hermitian operator`. Recall that Hermitian and Unitary operators are also Normal operators and, therefore, they also have a spectral decomposition in terms of the outer product representation."
   ]
  }
 ],
 "metadata": {
  "kernelspec": {
   "display_name": "Python 3 (ipykernel)",
   "language": "python",
   "name": "python3"
  },
  "language_info": {
   "codemirror_mode": {
    "name": "ipython",
    "version": 3
   },
   "file_extension": ".py",
   "mimetype": "text/x-python",
   "name": "python",
   "nbconvert_exporter": "python",
   "pygments_lexer": "ipython3",
   "version": "3.10.9"
  }
 },
 "nbformat": 4,
 "nbformat_minor": 5
}
